{
 "cells": [
  {
   "cell_type": "code",
   "execution_count": 24,
   "id": "0e3eaa77",
   "metadata": {},
   "outputs": [],
   "source": [
    "from langgraph.graph import StateGraph, START, END\n",
    "from dotenv import load_dotenv\n",
    "from typing import TypedDict, Literal"
   ]
  },
  {
   "cell_type": "code",
   "execution_count": 25,
   "id": "c06c5ba1",
   "metadata": {},
   "outputs": [
    {
     "data": {
      "text/plain": [
       "True"
      ]
     },
     "execution_count": 25,
     "metadata": {},
     "output_type": "execute_result"
    }
   ],
   "source": [
    "load_dotenv()"
   ]
  },
  {
   "cell_type": "code",
   "execution_count": 26,
   "id": "d3ae4836",
   "metadata": {},
   "outputs": [],
   "source": [
    "class QuadState(TypedDict):\n",
    "    a:int\n",
    "    b:int\n",
    "    c:int\n",
    "    \n",
    "    equation:str\n",
    "    discriminant:float\n",
    "    result:str"
   ]
  },
  {
   "cell_type": "code",
   "execution_count": 31,
   "id": "965c3516",
   "metadata": {},
   "outputs": [],
   "source": [
    "def show_equation(state: QuadState):\n",
    "    equation=f'{state[\"a\"]}x2{state[\"b\"]}x{state[\"c\"]}'\n",
    "    \n",
    "    return {'equation':equation}\n",
    "\n",
    "\n",
    "def calculate_discriminant(state: QuadState):\n",
    "    discriminant= state[\"b\"]**2 - (4*state[\"a\"]*state[\"c\"])\n",
    "    \n",
    "    return {\"discriminant\":discriminant}\n",
    "\n",
    "\n",
    "def real_roots(state:QuadState):\n",
    "    root1=(-state[\"b\"] + state[\"discriminant\"]**0.5)/(2*state[\"a\"])\n",
    "    root2=(-state[\"b\"] - state[\"discriminant\"]**0.5)/(2*state[\"a\"])\n",
    "    \n",
    "    result = f'The roots are {root1} and {root2}'\n",
    "    \n",
    "    return {'result':result}\n",
    "\n",
    "\n",
    "def repated_roots(state:QuadState):\n",
    "    root=(-state[\"b\"]) /(2*state[\"a\"])\n",
    "    \n",
    "    result = f'Only repeating root is {root}'\n",
    "    \n",
    "    return {'result':result}\n",
    "\n",
    "\n",
    "def no_real_roots(state:QuadState):\n",
    "    \n",
    "    result = f'No real roots'\n",
    "    \n",
    "    return {'result':result}\n",
    "\n",
    "\n",
    "def check_condition(state:QuadState)->Literal[\"real_roots\",\"repated_roots\",\"no_real_roots\"]:\n",
    "    if state[\"discriminant\"] > 0:\n",
    "        return \"real_roots\"\n",
    "    elif state[\"discriminant\"] ==0:\n",
    "        return \"repated_roots\"\n",
    "    else:\n",
    "        return \"no_real_roots\""
   ]
  },
  {
   "cell_type": "code",
   "execution_count": 32,
   "id": "d2ac255b",
   "metadata": {},
   "outputs": [],
   "source": [
    "graph = StateGraph(QuadState)\n",
    "graph.add_node(\"show_equation\",show_equation)\n",
    "graph.add_node(\"calculate_discriminant\",calculate_discriminant)\n",
    "graph.add_node(\"real_roots\",real_roots)\n",
    "graph.add_node(\"repated_roots\",repated_roots)\n",
    "graph.add_node(\"no_real_roots\",no_real_roots)\n",
    "\n",
    "graph.add_edge(START,\"show_equation\")\n",
    "graph.add_edge(\"show_equation\",\"calculate_discriminant\")\n",
    "graph.add_conditional_edges(\"calculate_discriminant\",check_condition)\n",
    "graph.add_edge(\"real_roots\",END)\n",
    "graph.add_edge(\"repated_roots\",END)\n",
    "graph.add_edge(\"no_real_roots\",END)\n",
    "\n",
    "workflow=graph.compile()"
   ]
  },
  {
   "cell_type": "code",
   "execution_count": 33,
   "id": "58a5f7de",
   "metadata": {},
   "outputs": [
    {
     "data": {
      "image/png": "[encoded data removed]",
      "text/plain": [
       "<langgraph.graph.state.CompiledStateGraph object at 0x00000295F48471C0>"
      ]
     },
     "execution_count": 33,
     "metadata": {},
     "output_type": "execute_result"
    }
   ],
   "source": [
    "workflow"
   ]
  },
  {
   "cell_type": "code",
   "execution_count": 36,
   "id": "e9959cf4",
   "metadata": {},
   "outputs": [
    {
     "data": {
      "text/plain": [
       "{'a': 2,\n",
       " 'b': 4,\n",
       " 'c': 2,\n",
       " 'equation': '2x24x2',\n",
       " 'discriminant': 0,\n",
       " 'result': 'Only repeating root is -1.0'}"
      ]
     },
     "execution_count": 36,
     "metadata": {},
     "output_type": "execute_result"
    }
   ],
   "source": [
    "initial_state={\n",
    "    'a':2,\n",
    "    'b':4,\n",
    "    'c':2\n",
    "}\n",
    "workflow.invoke(initial_state)"
   ]
  },
  {
   "cell_type": "code",
   "execution_count": null,
   "id": "69a77930",
   "metadata": {},
   "outputs": [],
   "source": []
  }
 ],
 "metadata": {
  "kernelspec": {
   "display_name": "Python 3",
   "language": "python",
   "name": "python3"
  },
  "language_info": {
   "codemirror_mode": {
    "name": "ipython",
    "version": 3
   },
   "file_extension": ".py",
   "mimetype": "text/x-python",
   "name": "python",
   "nbconvert_exporter": "python",
   "pygments_lexer": "ipython3",
   "version": "3.10.7"
  }
 },
 "nbformat": 4,
 "nbformat_minor": 5
}
