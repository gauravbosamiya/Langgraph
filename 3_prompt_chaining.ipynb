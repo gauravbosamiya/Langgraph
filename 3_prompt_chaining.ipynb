{
 "cells": [
  {
   "cell_type": "code",
   "execution_count": 44,
   "id": "abc38372",
   "metadata": {},
   "outputs": [],
   "source": [
    "from langchain_groq import ChatGroq\n",
    "from dotenv import load_dotenv\n",
    "from langgraph.graph import StateGraph, START, END\n",
    "from typing import TypedDict"
   ]
  },
  {
   "cell_type": "code",
   "execution_count": null,
   "id": "94b04db3",
   "metadata": {},
   "outputs": [
    {
     "data": {
      "text/plain": [
       "True"
      ]
     },
     "execution_count": 45,
     "metadata": {},
     "output_type": "execute_result"
    }
   ],
   "source": [
    "load_dotenv()\n",
    "model = ChatGroq(model=\"qwen-qwq-32b\")"
   ]
  },
  {
   "cell_type": "code",
   "execution_count": null,
   "id": "b9c1e431",
   "metadata": {},
   "outputs": [],
   "source": []
  },
  {
   "cell_type": "code",
   "execution_count": 47,
   "id": "3d9986be",
   "metadata": {},
   "outputs": [],
   "source": [
    "class BlogState(TypedDict):\n",
    "    title: str\n",
    "    outline:str\n",
    "    content :str"
   ]
  },
  {
   "cell_type": "code",
   "execution_count": 48,
   "id": "51ac61b4",
   "metadata": {},
   "outputs": [],
   "source": [
    "def create_outline(state: BlogState) -> BlogState:\n",
    "    title = state['title']\n",
    "    \n",
    "    prompt = f\"Generate a detailed outline for a blog on the topic - {title}\"\n",
    "    \n",
    "    outline = model.invoke(prompt).content\n",
    "    \n",
    "    state['outline'] = outline\n",
    "    \n",
    "    return state\n",
    "\n",
    "\n",
    "def gen_blog(state: BlogState) -> BlogState:\n",
    "    \n",
    "    title = state['title']\n",
    "    outline = state['outline']\n",
    "    \n",
    "    prompt = f\"write a detiled blog om the - {title} using following outline \\n {outline}\"\n",
    "    \n",
    "    content = model.invoke(prompt).content\n",
    "    state['content'] = content\n",
    "    \n",
    "    return state\n",
    "    "
   ]
  },
  {
   "cell_type": "code",
   "execution_count": 49,
   "id": "84a40083",
   "metadata": {},
   "outputs": [
    {
     "data": {
      "image/png": "[encoded data removed]",
      "text/plain": [
       "<langgraph.graph.state.CompiledStateGraph object at 0x000002ADFEAF7520>"
      ]
     },
     "execution_count": 49,
     "metadata": {},
     "output_type": "execute_result"
    }
   ],
   "source": [
    "graph = StateGraph(BlogState)\n",
    "graph.add_node(\"create_outline\",create_outline)\n",
    "graph.add_node(\"gen_blog\",gen_blog)\n",
    "\n",
    "graph.add_edge(START, \"create_outline\")\n",
    "graph.add_edge(\"create_outline\",\"gen_blog\")\n",
    "graph.add_edge(\"gen_blog\", END)\n",
    "\n",
    "workflow = graph.compile()\n",
    "workflow"
   ]
  },
  {
   "cell_type": "code",
   "execution_count": 50,
   "id": "8cc747f3",
   "metadata": {},
   "outputs": [
    {
     "name": "stdout",
     "output_type": "stream",
     "text": [
      "{'title': 'Rise of AI in India', 'outline': '\\n<think>\\nOkay, I need to create a detailed outline for a blog about the rise of AI in India. Let me start by thinking about the key points I should cover. First, maybe an introduction to set the context. The user mentioned a title, so I should come up with a catchy one. The introduction should probably talk about how AI is transforming industries and mention India\\'s role in this.\\n\\nNext, the historical context. I should start from the early days of AI in India. When did AI really start here? Maybe late 20th century with some research institutes. Then mention key milestones, like when the government started taking notice. I remember NITI Aayog\\'s 2018 report on AI, that\\'s important. Also, the National AI strategy from 2019, and the成立的AI task forces. That covers the historical part.\\n\\nThen, current developments. What\\'s happening now? Maybe sectors like healthcare, agriculture, fintech, and smart cities. For each of these, examples would help. Like healthcare could have AI in diagnostics, agriculture with precision farming tech, fintech with fraud detection, and smart cities using AI for traffic or waste management. Also, startups and corporate investments are key here. Companies like Google, Microsoft have centers in India, and Indian startups like Haptik or Innovaccer.\\n\\nGovernment initiatives are crucial. The National Strategy for AI aims for $1 trillion economy, which is a big point. The Digital India campaign, and specific policies like the National Education Policy 2020 to include AI in education. Also, ethical guidelines and data privacy laws, like the PDP Bill, which is important for regulating AI.\\n\\nGlobal collaborations and partnerships. India collaborating with the US, EU, and other countries on AI. Maybe mention events like the India-US Strategic Partnership or participation in global AI summits. Also, international investments and tech partnerships, like with companies abroad.\\n\\nChallenges and obstacles. Data privacy is a big one, especially with laws still evolving. Infrastructure is another issue—India has a large population but varying internet access. Talent shortage in AI, needing more trained professionals. Also, ethical concerns about AI\\'s impact on jobs and societal issues.\\n\\nThe future outlook would look at emerging trends. Quantum computing, IoT integration, and maybe AI in space or defense. Predictions for the next 5-10 years, like becoming a global leader or specific economic impacts. Opportunities for India could include being a hub for AI research and development, or creating solutions tailored to local needs.\\n\\nCase studies and examples. Maybe a couple of real-world examples where AI has made a difference. For instance, using AI in healthcare diagnostics to detect diseases early, or an agricultural tech example like crop monitoring drones.\\n\\nA call to action and conclusion. Encourage investment, education, and policy support. Wrap up by reinforcing India\\'s potential in AI.\\n\\nWait, I should also think about the structure. The user provided an outline example, so maybe follow a similar structure but ensure it\\'s detailed. Let me check if I missed any important points. Maybe include something about the role of academia and research institutions. Also, the role of venture capital and funding for startups. Oh, and maybe touch on the digital divide and how AI can help or exacerbate it.\\n\\nI need to make sure each section flows logically. Start with intro, then historical context, current developments, government policies, collaborations, challenges, future, case studies, and conclusion. Each section needs subpoints for depth. Also, ensuring that the case studies are specific and impactful examples.\\n\\nWait, in the current developments section, when talking about sectors, maybe break them down more. Healthcare could have examples like Arthive or Medtric, but I need to confirm real companies. Maybe better to keep it general unless specific examples are known. Also, the corporate investments part should mention specific companies\\' initiatives.\\n\\nIn challenges, besides data privacy and infrastructure, maybe regulatory challenges, like the slow pace of policy-making. Also, the need for standardized datasets and interoperability between different systems.\\n\\nFor future outlook, maybe mention specific goals or targets set by the government, like the target of $1 trillion digital economy. Also, how education reforms are planned to include AI in curricula from school level.\\n\\nIncluding a case study like the use of AI in smart cities such as the Smart Cities Mission, maybe Bhubaneswar or Pune implementing AI for better governance. Or in agriculture, using AI for crop yield prediction, which could be tied to the National Agricultural Innovation Project.\\n\\nI should also consider including statistics or projections, like the expected growth rate of India\\'s AI market. Maybe cite a source if possible, but since it\\'s an outline, maybe just note that data could be included there.\\n\\nAlso, the role of startups: India has a booming startup scene, so highlighting some successful AI startups would add value. Maybe mention how they\\'re funded and their impact.\\n\\nI need to ensure that each section builds on the previous one. The outline should be comprehensive but not too cluttered. Let me structure it step by step, making sure all key areas are covered. Maybe add a section on ethical considerations and societal impact beyond just challenges.\\n\\nHmm, the user\\'s example outline had a section on challenges and then future outlook. That seems logical. Also, the conclusion should tie everything together, reiterating the potential and the path forward.\\n\\nI think that covers most aspects. Now, organizing all these thoughts into sections and subsections systematically. Making sure each part is detailed enough for a blog post. Alright, time to structure them properly.\\n</think>\\n\\n**Title:**  \\n**AI Ascendant: The Transformative Journey of Artificial Intelligence in India**\\n\\n---\\n\\n### **1. Introduction**  \\n- **Hook:** Start with a compelling statistic (e.g., \"India’s AI market is projected to grow to $1.2 billion by 2025\").  \\n- **Thesis:** Highlight India’s pivotal role in AI’s global evolution, blending technological innovation, policy support, and societal impact.  \\n- **Purpose:** Explore the journey, current advancements, challenges, and future potential of AI in India.  \\n\\n---\\n\\n### **2. Historical Context: Laying the Foundation**  \\n- **Early Beginnings (1980s–2000s):**  \\n  - Emergence of AI research in academia (e.g., IITs, IISc) and early experiments in robotics and neural networks.  \\n  - Limited industry adoption due to lack of infrastructure and funding.  \\n- **Milestones (2010s–Present):**  \\n  - **2018:** NITI Aayog’s *National Strategy for Artificial Intelligence* framework.  \\n  - **2019:** Launch of India’s *National AI Mission* and establishment of 10 International Centers for Transformational AI (ICTAI).  \\n  - **2021–2023:** Rise of government-funded AI labs, partnerships with global tech giants (e.g., Google’s AI for India, Microsoft’s AI Network for Healthcare).  \\n\\n---\\n\\n### **3. Current Developments: AI in Action**  \\n- **Sector-Specific Innovations:**  \\n  - **Healthcare:**  \\n    - AI-powered diagnostic tools (e.g., Aindry for radiology, SigTuple for blood tests).  \\n    - Telemedicine platforms using AI for rural healthcare access.  \\n  - **Agriculture:**  \\n    - Precision farming (e.g., CropIn, DeHaat) using AI for weather prediction, pest control, and yield optimization.  \\n    - Drones and IoT devices for crop monitoring.  \\n  - **Fintech:**  \\n    - AI-driven fraud detection (Paytm’s AI systems, ZestMoney’s credit scoring).  \\n    - Chatbots for customer service (e.g., Haptik, Uniphore).  \\n  - **Smart Cities:**  \\n    - AI in traffic management (Delhi’s Smart City Mission), waste management (Kochi’s AI-enabled systems), and public safety.  \\n- **Corporate and Startup Ecosystem:**  \\n  - Tech giants (Google, Amazon, NVIDIA) setting up R&D hubs in India.  \\n  - Startup success stories (e.g., Innovaccer, Niramai, Uniphore) and venture funding trends (e.g., AI startups raised $500M+ in 2023).  \\n\\n---\\n\\n### **4. Government and Policy Initiatives**  \\n- **National Strategy for AI (2019):**  \\n  - Focus areas: Healthcare, agriculture, smart cities, and education.  \\n  - Vision to unlock $1 trillion digital economy by 2030.  \\n- **Digital India Campaign:**  \\n  - Digitization of public services (e.g., Aadhaar-linked AI applications, e-governance.  \\n- **Education Reforms:**  \\n  - Integration of AI into school/college curricula via the National Education Policy 2020.  \\n- **Ethical and Regulatory Frameworks:**  \\n  - Draft *Personal Data Protection Bill* and guidelines to balance innovation with privacy.  \\n\\n---\\n\\n### **5. Global Collaborations and Partnerships**  \\n- **International Partnerships:**  \\n  - India-US AI initiatives (e.g., AI in healthcare, climate change).  \\n  - EU-India dialogues on AI ethics and standards.  \\n- **Global Investments:**  \\n  - Foreign direct investment (FDI) in AI startups and R&D hubs.  \\n  - Partnerships with global institutions (e.g., MIT, Stanford) for joint research.  \\n\\n---\\n\\n### **6. Challenges and Obstacles**  \\n- **Data Privacy and Governance:**  \\n  - Balancing innovation with concerns over surveillance and misuse of data.  \\n  - Delays in finalizing the PDP Bill.  \\n- **Infrastructure Gaps:**  \\n  - Uneven internet penetration (only 50% of the population online).  \\n  - Limited high-speed computing infrastructure for AI training.  \\n- **Workforce Skills Gap:**  \\n  - Need for re-skilling and AI literacy programs.  \\n  - Brain drain of AI talent to Western countries.  \\n- **Ethical Concerns:**  \\n  - Bias in AI systems (e.g., facial recognition in rural vs. urban settings.  \\n  - Job displacement fears in sectors like banking and manufacturing.  \\n\\n---\\n\\n### **7. Future Outlook: Vision for the Next Decade**  \\n- **Emerging Trends:**  \\n  - Quantum AI integration, edge computing, and AI-driven climate solutions.  \\n  - AI in defense (e.g., DRDO’s AI labs for defense tech).  \\n- **Economic Impact Predictions:**  \\n  - Potential to contribute 15–20% to India’s GDP by 2030 (as per NITI Aayog).  \\n  - Creation of 100,000+ AI jobs by 2025.  \\n- **Opportunities for Leadership:**  \\n  - Positioning India as a global hub for AI talent and ethical AI solutions.  \\n  - Leveraging diversity in data for global AI models.  \\n\\n---\\n\\n### **8. Case Studies: Real-World Impact**  \\n- **Healthcare Example:**  \\n  - AI diagnostics in rural areas: Niramai’s thermography for breast cancer detection.  \\n- **Agriculture Example:**  \\n  - CropIn’s AI platform improving farmer yields by 20–30%.  \\n- **Urban Innovation:**  \\n  - Bhubaneswar’s AI-powered waste management system reducing landfill waste by 40%.  \\n\\n---\\n\\n### **9. Call to Action**  \\n- **For Policymakers:**  \\n  - Accelerate the PDP Bill and incentivize public-private R&D partnerships.  \\n- **For Educators:**  \\n  - Scale up AI training programs in universities and skill development centers.  \\n- **For Industry:**  \\n  - Invest in ethical AI frameworks and upskill the workforce.  \\n\\n---\\n\\n### **10. Conclusion**  \\n- **Recap:** Summarize India’s journey from nascent research to a global contender in AI.  \\n- **Closing Thought:** Emphasize India’s potential to lead in ethical, inclusive AI while addressing systemic challenges.  \\n- **Final Note:** A vision of an AI-powered India driving global innovation and societal progress.  \\n\\n---\\n\\n### **11. References & Further Reading**  \\n- Mention key reports (NITI Aayog, McKinsey, World Economic Forum).  \\n- Suggest books like *“AI in India: A Policy Perspective”* and reputable news sources.  \\n\\n---\\n\\n### **12. Appendices (Optional for Extended Posts)**  \\n- **Timeline of AI Milestones in India**  \\n- **List of Top AI Startups in India (2023).  \\n\\n---\\n\\nThis outline provides a structured, engaging narrative that balances technical insights with socio-economic implications, positioning India as a key player in the AI revolution.', 'content': \"\\n<think>\\nOkay, I need to write a detailed blog post on the rise of AI in India using the provided outline. Let me start by breaking down each section and ensuring I cover all the points thoroughly. \\n\\nFirst, the introduction needs a strong hook. The statistic about the AI market growth by 2025 is a good start. I should make sure to connect it to India's broader digital transformation. \\n\\nMoving to historical context: I should mention when AI research started in India. Maybe mention specific institutions like IITs and IISc's early work. The NITI Aayog report in 2018 and the National AI Strategy in 2019 are key milestones. I need to explain how these policies laid the groundwork for current advancements.\\n\\nCurrent developments: For each sector, I need concrete examples. In healthcare, Niramai and Arthive are good examples. For agriculture, companies like CropIn and DeHaat come to mind. In smart cities, Bhubaneswar and Pune's initiatives are relevant. I should highlight startups like Haptik and Innovaccer, and mention big companies like Google and Microsoft's presence in India. Including funding stats, like the $500M raised by startups, adds credibility.\\n\\nGovernment initiatives: The National Education Policy 2020 and the PDP Bill need to be explained clearly. I should also mention how Digital India supports AI through services like Aadhaar. Ethical guidelines are crucial here; maybe touch on the draft AI ethics framework by NITI Aayog.\\n\\nGlobal collaborations: India's partnerships with the US and EU, maybe mention specific agreements like the US-India Strategic Partnership Forum. Also, note investments from global firms and academic collaborations.\\n\\nChallenges: Data privacy is a big one. The PDP Bill's delays and concerns about surveillance need to be addressed. Infrastructure gaps like internet access and computing power are important. The skills gap and brain drain should be highlighted, along with ethical concerns like bias in facial recognition for rural vs. urban populations.\\n\\nFuture outlook: Quantum computing and edge computing are emerging trends. Mention DRDO's work in defense tech. Economic predictions from NITI Aayog about GDP contribution and job creation. Emphasize India's potential as an ethical AI leader, leveraging its diverse data and talent.\\n\\nCase studies: The examples given (Niramai, CropIn, Bhubaneswar) need detailed explanations. For instance, Niramai's use of thermal imaging in breast cancer detection without radiation. CropIn's platform for small farmers. Bhubaneswar's waste management using AI to optimize routes and reduce costs.\\n\\nCall to action: Targeted advice for policymakers, educators, and industry leaders. Specific steps like fast-tracking legislation, upskilling programs, and ethical AI practices.\\n\\nConclusion: Wrap up by reiterating India's potential, balancing innovation with ethics, and the transformative impact on society.\\n\\nI need to ensure the flow is smooth between sections. Maybe add statistics in the future outlook to back up growth projections. Also, check if all the startup names and initiatives are correctly spelled and relevant. Avoid jargon to keep it accessible. Use subheadings for clarity and include a conclusion that inspires action. Finally, references to credible sources like NITI Aayog reports and McKinsey data will add authority. Alright, putting it all together now.\\n</think>\\n\\n**Title:**  \\n**AI Ascendant: The Transformative Journey of Artificial Intelligence in India**  \\n\\n---\\n\\n### **1. Introduction**  \\nThe global AI market, projected to reach **$1.2 billion in India alone by 2025**, underscores a remarkable shift. India’s journey from being a hub for IT services to a leader in AI innovation is nothing short of revolutionary. This blog explores how India is harnessing AI to solve its unique socio-economic challenges while positioning itself as a global AI powerhouse.  \\n\\n---\\n\\n### **2. Historical Context: Laying the Foundation**  \\n- **Early Beginnings (1980s–2000s):**  \\n  - Pioneering work in academia: Institutions like **IIT Delhi**, **IISc Bangalore**, and **IIIT Hyderabad** laid the groundwork through research in machine learning and robotics.  \\n  - Limited industry adoption due to infrastructure constraints and lack of policy frameworks.  \\n\\n- **Milestones (2010s–Present):**  \\n  - **2018:** NITI Aayog’s *National Strategy for Artificial Intelligence*, prioritizing healthcare, agriculture, and smart cities.  \\n  - **2019:** Launch of 10 **International Centers for Transformational AI (ICTAI)** and AI Task Forces.  \\n  - **2023:** Over 15,000+ AI-driven patents filed, signaling India’s growing R&D prowess.  \\n\\n---\\n\\n### **3. Current Developments: AI in Action**  \\n- **Healthcare:**  \\n  - **Niramai’s Thermalytix**: Uses AI-driven thermal imaging to detect breast cancer without radiation, expanding access in underserved areas.  \\n  - AI-powered telemedicine platforms (e.g., **Practo**) reducing diagnostic gaps.  \\n\\n- **Agriculture:**  \\n  - **CropIn**: AI platforms analyze satellite and soil data to guide farmers on crop health and pricing, benefiting 150,000+ farmers.  \\n  - **DeHaat**: Digitizes supply chains, reducing losses and empowering smallholders.  \\n\\n- **Fintech & Logistics:**  \\n  - **Uniphore’s AI chatbots**: Used by banks like Axis Bank to handle 300K+ queries daily.  \\n  - **LogiNext**: Optimizes logistics routes using predictive analytics, cutting delivery times by 25%.  \\n\\n- **Corporate & Startups:**  \\n  - Giants like **Google AI** and **Microsoft’s AI for Earth** collaborate on projects like monsoon prediction and climate modeling.  \\n  - Startups like **Haptik** (acquired by *Swiggy*) and **Innovaccer** (healthtech) raise millions, with AI startups securing **$500M+ in 2023**.  \\n\\n---\\n\\n### **4. Government & Policy Initiatives**  \\n- **National Strategy for AI (2019):**  \\n  - Aims to boost agricultural productivity by 30% and improve healthcare diagnostics by 2030.  \\n  - Targets a $1 trillion digital economy by 2030 through AI-driven sectors like education and governance.  \\n\\n- **Digital India Campaign:**  \\n  - Digital infrastructure via platforms like **Aadhaar** enables data-driven AI models for services like crop insurance and health ID.  \\n\\n- **Education Overhaul:**  \\n  - NEP 2020 mandates AI modules in schools; **upGrad** and **Great Learning** offer AI certifications to bridge the skills gap.  \\n\\n- **Ethics & Regulations:**  \\n  - Draft **AI Ethics Framework** by NITI Aayog focuses on fairness, transparency, and accountability.  \\n  - **PDP Bill** debates balancing innovation with privacy—a critical hurdle to resolve.  \\n\\n---\\n\\n### **5. Global Collaborations**  \\n- **Partnerships:**  \\n  - **US-India AI Initiative**: Joint projects on climate tech and healthcare.  \\n  - EU-India dialogues on AI ethics and cross-border data flows.  \\n\\n- **Global Investments:**  \\n  - **NVIDIA’s AI supercomputing centers** in India; **Amazon’s AI labs** for voice & vision tech.  \\n  - Academic collaborations: IITs partnering with MIT, Stanford for AI research.  \\n\\n---\\n\\n### **6. Challenges Ahead**  \\n- **Data Privacy:**  \\n  - The **PDP Bill’s delays** and concerns over surveillance in Aadhaar-linked AI projects.  \\n\\n- **Infrastructure Gaps:**  \\n  - Only **50% internet penetration** (2023); rural-urban divide in tech access.  \\n  - High costs of AI infrastructure (e.g., GPUs) limit SME adoption.  \\n\\n- **Skills Shortage:**  \\n  - 250,000+ AI jobs exist, but only 10% of engineers have advanced AI skills (Aspiring Minds, 2023).  \\n  - Brain drain: 40% of AI PhDs migrate to Silicon Valley annually.  \\n\\n- **Ethical Dilemmas:**  \\n  - Bias in facial recognition for diverse demographics; job displacement fears in sectors like banking and manufacturing.  \\n\\n---\\n\\n### **7. Future Outlook: 2030 and Beyond**  \\n- **Emerging Tech Frontiers:**  \\n  - **Quantum-AI hybrids**: IISc’s experiments in quantum computing for AI training.  \\n  - **Edge computing for rural areas**: Low-power devices enabling AI in remote regions.  \\n\\n- **Economic Impact:**  \\n  - AI could contribute 15–20% to India’s GDP by 2030, creating 100,000+ AI jobs annually.  \\n\\n- **Global Leadership:**  \\n  - Potential to become an AI “bridge” between the West and emerging markets, offering scalable, cost-effective solutions.  \\n\\n---\\n\\n### **8. Case Studies**  \\n- **Case 1: Niramai**  \\n  - *Impact:* Screened 100,000+ rural women for breast cancer, reducing diagnostic delays.  \\n- **Case 2: Bhubaneswar’s Smart City AI**  \\n  - *Impact:* Reduced landfill waste by 40% and cut municipal costs by 20%.  \\n\\n---\\n\\n### **9. Call to Action**  \\n- **For Governments:** Fast-track the PDP Bill and fund AI infrastructure (e.g., nationwide 5G, cloud infrastructure).  \\n- **Educators:** Scale AI bootcamps and incentivize local R&D through tax breaks.  \\n- **Industry:** Invest in ethical AI frameworks and partnerships with academia.  \\n\\n---\\n\\n### **10. Conclusion**  \\nIndia stands at the cusp of an AI revolution, poised to leverage its talent pool and vast data to solve global challenges. By addressing gaps in policy, infrastructure, and ethics, India can become not just an adopter, but a shaper of the AI future.  \\n\\n---\\n\\n### **11. References**  \\n- NITI Aayog: *National Strategy for AI* (2019).  \\n- McKinsey Report: *AI’s Potential in India’s Economy*.  \\n- World Economic Forum: *AI for Climate Action Case Studies*.  \\n\\n---\\n\\n**Final Note:** This blog balances technical insights with real-world examples, emphasizing India’s unique strengths and challenges. Tailored for policymakers, entrepreneurs, and tech enthusiasts, it paints a future where AI bridges India’s development gaps and cements its tech leadership globally.  \\n--- \\n\\nThis structure ensures depth, clarity, and a narrative that inspires action while acknowledging hurdles. Let me know if you need help expanding any section!\"}\n"
     ]
    }
   ],
   "source": [
    "intial_state = {'title': 'Rise of AI in India'}\n",
    "\n",
    "final_state = workflow.invoke(intial_state)\n",
    "\n",
    "print(final_state)\n"
   ]
  },
  {
   "cell_type": "code",
   "execution_count": null,
   "id": "7ad43290",
   "metadata": {},
   "outputs": [],
   "source": []
  },
  {
   "cell_type": "code",
   "execution_count": null,
   "id": "9ed80274",
   "metadata": {},
   "outputs": [],
   "source": [
    "from langgraph.graph import StateGraph, START, END\n",
    "from typing import TypedDict\n",
    "from langchain_core.prompts import PromptTemplate\n",
    "from dotenv import load_dotenv\n",
    "from langchain_groq import ChatGroq"
   ]
  },
  {
   "cell_type": "code",
   "execution_count": 40,
   "id": "35336e52",
   "metadata": {},
   "outputs": [],
   "source": [
    "load_dotenv()\n",
    "model = ChatGroq(model=\"meta-llama/llama-4-scout-17b-16e-instruct\")"
   ]
  },
  {
   "cell_type": "code",
   "execution_count": 54,
   "id": "84e84d0c",
   "metadata": {},
   "outputs": [],
   "source": [
    "class BlogState(TypedDict):\n",
    "    title: str\n",
    "    outline:str\n",
    "    content:str\n",
    "    score: str"
   ]
  },
  {
   "cell_type": "code",
   "execution_count": null,
   "id": "24c4cb36",
   "metadata": {},
   "outputs": [],
   "source": [
    "def create_outline(state: BlogState):\n",
    "    title = state['title']\n",
    "    prompt = PromptTemplate(template=\"write a detailed outline of the topic - {title}\", input_variables=[\"title\"])\n",
    "    formated_propmpt = prompt.format(title=title)\n",
    "    result = model.invoke(formated_propmpt).content\n",
    "    state[\"outline\"] = result\n",
    "    return state \n",
    "\n",
    "def create_blog(state: BlogState):\n",
    "    title = state['title']\n",
    "    outline = state['outline']\n",
    "    prompt = PromptTemplate(template=\"write a detailed blog on the - {title} using following outline \\n {outline}\",\n",
    "                            input_variables=[\"title\",\"outline\"])\n",
    "    formated_prompt = prompt.format(title=title, outline=outline)\n",
    "    content = model.invoke(formated_prompt).content\n",
    "    state[\"content\"]=content\n",
    "    return state\n",
    "\n",
    "def evaluate_blog(state:BlogState):\n",
    "    title = state[\"title\"]\n",
    "    outline = state[\"outline\"]\n",
    "    content = state[\"content\"]\n",
    "    prompt = PromptTemplate(template=(\n",
    "                        \"You are an expert blog reviewer. Based on the following:\\n\"\n",
    "                        \"Title: {title}\\n\\n\"\n",
    "                        \"Outline: {outline}\\n\\n\"\n",
    "                        \"Content: {content}\\n\\n\"\n",
    "                        \"Rate this blog post from 0 to 10. write only numbers out of 10 in this format 8/10 not any other things\"\n",
    "\n",
    "                    ),input_variables=[\"title\", \"outline\", \"content\"]  )\n",
    "    formated_propmt = prompt.format(title=title, outline=outline, content=content)\n",
    "    score = model.invoke(formated_propmt).content.strip()\n",
    "    state[\"score\"] = score\n",
    "    return state\n",
    "    "
   ]
  },
  {
   "cell_type": "code",
   "execution_count": 64,
   "id": "97b376f3",
   "metadata": {},
   "outputs": [
    {
     "data": {
      "image/png": "[encoded data removed]",
      "text/plain": [
       "<langgraph.graph.state.CompiledStateGraph object at 0x0000018E6E5D1720>"
      ]
     },
     "execution_count": 64,
     "metadata": {},
     "output_type": "execute_result"
    }
   ],
   "source": [
    "graph = StateGraph(BlogState)\n",
    "graph.add_node(\"create_outline\",create_outline)\n",
    "graph.add_node(\"create_blog\",create_blog)\n",
    "graph.add_node(\"evaluate_blog\",evaluate_blog)\n",
    "\n",
    "graph.add_edge(START, \"create_outline\")\n",
    "graph.add_edge(\"create_outline\",\"create_blog\")\n",
    "graph.add_edge(\"create_blog\",\"evaluate_blog\")\n",
    "graph.add_edge(\"evaluate_blog\", END)\n",
    "\n",
    "worflow = graph.compile()\n",
    "worflow"
   ]
  },
  {
   "cell_type": "code",
   "execution_count": 67,
   "id": "fb9523d0",
   "metadata": {},
   "outputs": [
    {
     "name": "stdout",
     "output_type": "stream",
     "text": [
      "8/10\n"
     ]
    }
   ],
   "source": [
    "intial_state = {'title':'Best Mutual Fund in 2025'}\n",
    "\n",
    "final_state = worflow.invoke(intial_state)\n",
    "# print(final_state[\"title\"])\n",
    "# print(final_state[\"outline\"])\n",
    "# print(final_state[\"content\"])\n",
    "print(final_state[\"score\"])"
   ]
  },
  {
   "cell_type": "code",
   "execution_count": null,
   "id": "2c66187b",
   "metadata": {},
   "outputs": [],
   "source": []
  },
  {
   "cell_type": "code",
   "execution_count": null,
   "id": "6f4f0cb6",
   "metadata": {},
   "outputs": [],
   "source": []
  }
 ],
 "metadata": {
  "kernelspec": {
   "display_name": "langgraph",
   "language": "python",
   "name": "python3"
  },
  "language_info": {
   "codemirror_mode": {
    "name": "ipython",
    "version": 3
   },
   "file_extension": ".py",
   "mimetype": "text/x-python",
   "name": "python",
   "nbconvert_exporter": "python",
   "pygments_lexer": "ipython3",
   "version": "3.10.18"
  }
 },
 "nbformat": 4,
 "nbformat_minor": 5
}
