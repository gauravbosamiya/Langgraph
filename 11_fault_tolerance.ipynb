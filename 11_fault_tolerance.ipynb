{
 "cells": [
  {
   "cell_type": "code",
   "execution_count": 1,
   "id": "1a9f2bb8",
   "metadata": {},
   "outputs": [],
   "source": [
    "from langgraph.graph import StateGraph, START, END\n",
    "from langgraph.checkpoint.memory import InMemorySaver\n",
    "from langchain_groq import ChatGroq\n",
    "from dotenv import load_dotenv\n",
    "from typing import TypedDict"
   ]
  },
  {
   "cell_type": "code",
   "execution_count": 2,
   "id": "36df12e3",
   "metadata": {},
   "outputs": [
    {
     "data": {
      "text/plain": [
       "True"
      ]
     },
     "execution_count": 2,
     "metadata": {},
     "output_type": "execute_result"
    }
   ],
   "source": [
    "load_dotenv()"
   ]
  },
  {
   "cell_type": "code",
   "execution_count": 3,
   "id": "231e758c",
   "metadata": {},
   "outputs": [],
   "source": [
    "llm = ChatGroq(model=\"llama-3.1-8b-instant\")"
   ]
  },
  {
   "cell_type": "code",
   "execution_count": 4,
   "id": "9a49584e",
   "metadata": {},
   "outputs": [],
   "source": [
    "import time"
   ]
  },
  {
   "cell_type": "code",
   "execution_count": 5,
   "id": "0af4350b",
   "metadata": {},
   "outputs": [],
   "source": [
    "class CrashState(TypedDict):\n",
    "    input:str\n",
    "    step1:str\n",
    "    step2:str\n",
    "    step3:str"
   ]
  },
  {
   "cell_type": "code",
   "execution_count": 6,
   "id": "c9beaf84",
   "metadata": {},
   "outputs": [],
   "source": [
    "def step1(state:CrashState):\n",
    "    print(\"step 1 executed\")\n",
    "    return {\"step1\":\"done\",\"input\":state[\"input\"]}\n",
    "\n",
    "def step2(state: CrashState):\n",
    "    print(\"step 2 hanging... now manually interrupt from the notebook toolbar (STOP button)\")\n",
    "    time.sleep(30)\n",
    "    return {\"step2\":\"done\"}\n",
    "\n",
    "def step3(state:CrashState):\n",
    "    print(\"step 3 executed\")\n",
    "    return {\"step3\":\"done\"}"
   ]
  },
  {
   "cell_type": "code",
   "execution_count": 7,
   "id": "5fa98241",
   "metadata": {},
   "outputs": [],
   "source": [
    "graph = StateGraph(CrashState)\n",
    "graph.add_node(\"step1\",step1)\n",
    "graph.add_node(\"step2\",step2)\n",
    "graph.add_node(\"step3\",step3)\n",
    "\n",
    "graph.add_edge(START, \"step1\")\n",
    "graph.add_edge(\"step1\", \"step2\")\n",
    "graph.add_edge(\"step2\",\"step3\")\n",
    "graph.add_edge(\"step3\", END)\n",
    "\n",
    "checkpointer = InMemorySaver()\n",
    "workflow=graph.compile(checkpointer=checkpointer)"
   ]
  },
  {
   "cell_type": "code",
   "execution_count": 8,
   "id": "896fd797",
   "metadata": {},
   "outputs": [
    {
     "data": {
      "image/png": "[encoded data removed]",
      "text/plain": [
       "<langgraph.graph.state.CompiledStateGraph object at 0x00000288E660F9A0>"
      ]
     },
     "execution_count": 8,
     "metadata": {},
     "output_type": "execute_result"
    }
   ],
   "source": [
    "workflow"
   ]
  },
  {
   "cell_type": "code",
   "execution_count": 9,
   "id": "4e51e7e1",
   "metadata": {},
   "outputs": [
    {
     "name": "stdout",
     "output_type": "stream",
     "text": [
      "Ruuning graph: Please manually interrupt during step2...\n",
      "step 1 executed\n",
      "step 2 hanging... now manually interrupt from the notebook toolbar (STOP button)\n",
      "Kernel manually interrupted (crash simulated).\n"
     ]
    }
   ],
   "source": [
    "try:\n",
    "    print(\"Ruuning graph: Please manually interrupt during step2...\")\n",
    "    workflow.invoke({\"input\":\"start\"}, config={\"configurable\":{\"thread_id\":\"1\"}})\n",
    "except KeyboardInterrupt:\n",
    "    print(\"Kernel manually interrupted (crash simulated).\")"
   ]
  },
  {
   "cell_type": "code",
   "execution_count": 10,
   "id": "5ad7df65",
   "metadata": {},
   "outputs": [
    {
     "data": {
      "text/plain": [
       "StateSnapshot(values={'input': 'start', 'step1': 'done'}, next=('step2',), config={'configurable': {'thread_id': '1', 'checkpoint_ns': '', 'checkpoint_id': '1f070982-9b72-67a8-8001-e9ab33eb61bb'}}, metadata={'source': 'loop', 'step': 1, 'parents': {}, 'thread_id': '1'}, created_at='2025-08-03T18:32:08.569437+00:00', parent_config={'configurable': {'thread_id': '1', 'checkpoint_ns': '', 'checkpoint_id': '1f070982-9b70-60c3-8000-3f0057d2ac1f'}}, tasks=(PregelTask(id='0838f53e-8a26-25c9-b505-79234bc0389e', name='step2', path=('__pregel_pull', 'step2'), error=None, interrupts=(), state=None, result=None),), interrupts=())"
      ]
     },
     "execution_count": 10,
     "metadata": {},
     "output_type": "execute_result"
    }
   ],
   "source": [
    "workflow.get_state({\"configurable\":{\"thread_id\":\"1\"}})"
   ]
  },
  {
   "cell_type": "code",
   "execution_count": 11,
   "id": "9c11079a",
   "metadata": {},
   "outputs": [
    {
     "data": {
      "text/plain": [
       "[StateSnapshot(values={'input': 'start', 'step1': 'done'}, next=('step2',), config={'configurable': {'thread_id': '1', 'checkpoint_ns': '', 'checkpoint_id': '1f070982-9b72-67a8-8001-e9ab33eb61bb'}}, metadata={'source': 'loop', 'step': 1, 'parents': {}, 'thread_id': '1'}, created_at='2025-08-03T18:32:08.569437+00:00', parent_config={'configurable': {'thread_id': '1', 'checkpoint_ns': '', 'checkpoint_id': '1f070982-9b70-60c3-8000-3f0057d2ac1f'}}, tasks=(PregelTask(id='0838f53e-8a26-25c9-b505-79234bc0389e', name='step2', path=('__pregel_pull', 'step2'), error=None, interrupts=(), state=None, result=None),), interrupts=()),\n",
       " StateSnapshot(values={'input': 'start'}, next=('step1',), config={'configurable': {'thread_id': '1', 'checkpoint_ns': '', 'checkpoint_id': '1f070982-9b70-60c3-8000-3f0057d2ac1f'}}, metadata={'source': 'loop', 'step': 0, 'parents': {}, 'thread_id': '1'}, created_at='2025-08-03T18:32:08.568441+00:00', parent_config={'configurable': {'thread_id': '1', 'checkpoint_ns': '', 'checkpoint_id': '1f070982-9b6b-625e-bfff-198debe15727'}}, tasks=(PregelTask(id='2a8ad5ad-6071-75bc-1276-85c51f00aac9', name='step1', path=('__pregel_pull', 'step1'), error=None, interrupts=(), state=None, result={'step1': 'done', 'input': 'start'}),), interrupts=()),\n",
       " StateSnapshot(values={}, next=('__start__',), config={'configurable': {'thread_id': '1', 'checkpoint_ns': '', 'checkpoint_id': '1f070982-9b6b-625e-bfff-198debe15727'}}, metadata={'source': 'input', 'step': -1, 'parents': {}, 'thread_id': '1'}, created_at='2025-08-03T18:32:08.566434+00:00', parent_config=None, tasks=(PregelTask(id='fb17a8cb-e853-6163-110d-731e48cb1b1b', name='__start__', path=('__pregel_pull', '__start__'), error=None, interrupts=(), state=None, result={'input': 'start'}),), interrupts=())]"
      ]
     },
     "execution_count": 11,
     "metadata": {},
     "output_type": "execute_result"
    }
   ],
   "source": [
    "list(workflow.get_state_history({\"configurable\":{\"thread_id\":\"1\"}}))"
   ]
  },
  {
   "cell_type": "code",
   "execution_count": 12,
   "id": "40774b80",
   "metadata": {},
   "outputs": [
    {
     "name": "stdout",
     "output_type": "stream",
     "text": [
      "step 2 hanging... now manually interrupt from the notebook toolbar (STOP button)\n",
      "step 3 executed\n",
      "\n",
      " Final state: {'input': 'start', 'step1': 'done', 'step2': 'done', 'step3': 'done'}\n"
     ]
    }
   ],
   "source": [
    "final_state=workflow.invoke(None, {\"configurable\":{\"thread_id\":\"1\"}})\n",
    "print(\"\\n Final state:\", final_state)"
   ]
  },
  {
   "cell_type": "code",
   "execution_count": 13,
   "id": "9f3f409d",
   "metadata": {},
   "outputs": [
    {
     "data": {
      "text/plain": [
       "StateSnapshot(values={'input': 'start', 'step1': 'done', 'step2': 'done', 'step3': 'done'}, next=(), config={'configurable': {'thread_id': '1', 'checkpoint_ns': '', 'checkpoint_id': '1f07098a-7d99-662d-8003-a1a81332b069'}}, metadata={'source': 'loop', 'step': 3, 'parents': {}, 'thread_id': '1'}, created_at='2025-08-03T18:35:40.188010+00:00', parent_config={'configurable': {'thread_id': '1', 'checkpoint_ns': '', 'checkpoint_id': '1f07098a-7d94-6a33-8002-99f19b1bbbfa'}}, tasks=(), interrupts=())"
      ]
     },
     "execution_count": 13,
     "metadata": {},
     "output_type": "execute_result"
    }
   ],
   "source": [
    "workflow.get_state({\"configurable\":{\"thread_id\":\"1\"}})"
   ]
  },
  {
   "cell_type": "code",
   "execution_count": 14,
   "id": "cafd75a0",
   "metadata": {},
   "outputs": [
    {
     "data": {
      "text/plain": [
       "[StateSnapshot(values={'input': 'start', 'step1': 'done', 'step2': 'done', 'step3': 'done'}, next=(), config={'configurable': {'thread_id': '1', 'checkpoint_ns': '', 'checkpoint_id': '1f07098a-7d99-662d-8003-a1a81332b069'}}, metadata={'source': 'loop', 'step': 3, 'parents': {}, 'thread_id': '1'}, created_at='2025-08-03T18:35:40.188010+00:00', parent_config={'configurable': {'thread_id': '1', 'checkpoint_ns': '', 'checkpoint_id': '1f07098a-7d94-6a33-8002-99f19b1bbbfa'}}, tasks=(), interrupts=()),\n",
       " StateSnapshot(values={'input': 'start', 'step1': 'done', 'step2': 'done'}, next=('step3',), config={'configurable': {'thread_id': '1', 'checkpoint_ns': '', 'checkpoint_id': '1f07098a-7d94-6a33-8002-99f19b1bbbfa'}}, metadata={'source': 'loop', 'step': 2, 'parents': {}, 'thread_id': '1'}, created_at='2025-08-03T18:35:40.186065+00:00', parent_config={'configurable': {'thread_id': '1', 'checkpoint_ns': '', 'checkpoint_id': '1f070982-9b72-67a8-8001-e9ab33eb61bb'}}, tasks=(PregelTask(id='4388aeb4-e6d2-666f-c16e-267e3592213d', name='step3', path=('__pregel_pull', 'step3'), error=None, interrupts=(), state=None, result={'step3': 'done'}),), interrupts=()),\n",
       " StateSnapshot(values={'input': 'start', 'step1': 'done'}, next=('step2',), config={'configurable': {'thread_id': '1', 'checkpoint_ns': '', 'checkpoint_id': '1f070982-9b72-67a8-8001-e9ab33eb61bb'}}, metadata={'source': 'loop', 'step': 1, 'parents': {}, 'thread_id': '1'}, created_at='2025-08-03T18:32:08.569437+00:00', parent_config={'configurable': {'thread_id': '1', 'checkpoint_ns': '', 'checkpoint_id': '1f070982-9b70-60c3-8000-3f0057d2ac1f'}}, tasks=(PregelTask(id='0838f53e-8a26-25c9-b505-79234bc0389e', name='step2', path=('__pregel_pull', 'step2'), error=None, interrupts=(), state=None, result={'step2': 'done'}),), interrupts=()),\n",
       " StateSnapshot(values={'input': 'start'}, next=('step1',), config={'configurable': {'thread_id': '1', 'checkpoint_ns': '', 'checkpoint_id': '1f070982-9b70-60c3-8000-3f0057d2ac1f'}}, metadata={'source': 'loop', 'step': 0, 'parents': {}, 'thread_id': '1'}, created_at='2025-08-03T18:32:08.568441+00:00', parent_config={'configurable': {'thread_id': '1', 'checkpoint_ns': '', 'checkpoint_id': '1f070982-9b6b-625e-bfff-198debe15727'}}, tasks=(PregelTask(id='2a8ad5ad-6071-75bc-1276-85c51f00aac9', name='step1', path=('__pregel_pull', 'step1'), error=None, interrupts=(), state=None, result={'step1': 'done', 'input': 'start'}),), interrupts=()),\n",
       " StateSnapshot(values={}, next=('__start__',), config={'configurable': {'thread_id': '1', 'checkpoint_ns': '', 'checkpoint_id': '1f070982-9b6b-625e-bfff-198debe15727'}}, metadata={'source': 'input', 'step': -1, 'parents': {}, 'thread_id': '1'}, created_at='2025-08-03T18:32:08.566434+00:00', parent_config=None, tasks=(PregelTask(id='fb17a8cb-e853-6163-110d-731e48cb1b1b', name='__start__', path=('__pregel_pull', '__start__'), error=None, interrupts=(), state=None, result={'input': 'start'}),), interrupts=())]"
      ]
     },
     "execution_count": 14,
     "metadata": {},
     "output_type": "execute_result"
    }
   ],
   "source": [
    "list(workflow.get_state_history({\"configurable\":{\"thread_id\":\"1\"}}))"
   ]
  },
  {
   "cell_type": "code",
   "execution_count": null,
   "id": "76853f6a",
   "metadata": {},
   "outputs": [],
   "source": []
  }
 ],
 "metadata": {
  "kernelspec": {
   "display_name": "Python 3",
   "language": "python",
   "name": "python3"
  },
  "language_info": {
   "codemirror_mode": {
    "name": "ipython",
    "version": 3
   },
   "file_extension": ".py",
   "mimetype": "text/x-python",
   "name": "python",
   "nbconvert_exporter": "python",
   "pygments_lexer": "ipython3",
   "version": "3.10.7"
  }
 },
 "nbformat": 4,
 "nbformat_minor": 5
}
