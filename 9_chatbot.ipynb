{
 "cells": [
  {
   "cell_type": "code",
   "execution_count": 24,
   "id": "306a237e",
   "metadata": {},
   "outputs": [
    {
     "data": {
      "text/plain": [
       "True"
      ]
     },
     "execution_count": 24,
     "metadata": {},
     "output_type": "execute_result"
    }
   ],
   "source": [
    "from langgraph.graph import StateGraph, START, END\n",
    "from typing import TypedDict, List, Annotated\n",
    "from langchain_core.messages import BaseMessage, HumanMessage\n",
    "from langchain_groq import ChatGroq\n",
    "from langgraph.graph.message import add_messages\n",
    "from dotenv import load_dotenv\n",
    "from langgraph.checkpoint.memory import MemorySaver\n",
    "\n",
    "load_dotenv()"
   ]
  },
  {
   "cell_type": "code",
   "execution_count": 25,
   "id": "d492686c",
   "metadata": {},
   "outputs": [],
   "source": [
    "class ChatBotState(TypedDict):\n",
    "    messages:Annotated[List[BaseMessage], add_messages]"
   ]
  },
  {
   "cell_type": "code",
   "execution_count": null,
   "id": "8bbcdb2e",
   "metadata": {},
   "outputs": [],
   "source": [
    "llm = ChatGroq(model=\"llama-3.1-8b-instant\")\n",
    "\n",
    "def chat(state: ChatBotState):\n",
    "    messages=state[\"messages\"]\n",
    "    response=llm.invoke(messages)\n",
    "    return {'messages':[response]}"
   ]
  },
  {
   "cell_type": "code",
   "execution_count": 27,
   "id": "8d36478c",
   "metadata": {},
   "outputs": [],
   "source": [
    "checkpointer=MemorySaver()\n",
    "graph=StateGraph(ChatBotState)\n",
    "\n",
    "graph.add_node(\"chat\",chat)\n",
    "\n",
    "graph.add_edge(START, \"chat\")\n",
    "graph.add_edge(\"chat\",END)\n",
    "\n",
    "chatbot=graph.compile(checkpointer=checkpointer)"
   ]
  },
  {
   "cell_type": "code",
   "execution_count": 33,
   "id": "94d13315",
   "metadata": {},
   "outputs": [],
   "source": [
    "# chatbot"
   ]
  },
  {
   "cell_type": "code",
   "execution_count": 19,
   "id": "849097f7",
   "metadata": {},
   "outputs": [
    {
     "data": {
      "text/plain": [
       "'The capital of India is New Delhi.'"
      ]
     },
     "execution_count": 19,
     "metadata": {},
     "output_type": "execute_result"
    }
   ],
   "source": [
    "intial_state={\n",
    "    'messages':[HumanMessage(content=\"what is the capital of india\")]\n",
    "}\n",
    "chatbot.invoke(intial_state)[\"messages\"][-1].content"
   ]
  },
  {
   "cell_type": "code",
   "execution_count": null,
   "id": "43ac3de8",
   "metadata": {},
   "outputs": [
    {
     "name": "stdout",
     "output_type": "stream",
     "text": [
      "user :  hii i an gaurav\n",
      "AI : Hello Gaurav, nice to meet you. Is there something I can help you with or would you like to chat?\n",
      "user :  can you tell me what is ny name ?\n",
      "AI : Your name is Gaurav.\n",
      "user :  bye\n"
     ]
    }
   ],
   "source": [
    "thread_id='1'\n",
    "\n",
    "while True:\n",
    "    \n",
    "    user_message=input(\"Type Here....\")\n",
    "    \n",
    "    print(\"user : \",user_message)\n",
    "    \n",
    "    if user_message.strip().lower() in [\"exit\",\"quit\",\"bye\"]:\n",
    "        break\n",
    "    \n",
    "    config={'configurable':{'thread_id':thread_id}}\n",
    "    \n",
    "    response = chatbot.invoke({'messages':[HumanMessage(content=user_message)]}, config=config)\n",
    "    \n",
    "    print(\"AI :\", response[\"messages\"][-1].content)"
   ]
  },
  {
   "cell_type": "code",
   "execution_count": 32,
   "id": "dfe6157f",
   "metadata": {},
   "outputs": [],
   "source": [
    "# chatbot.get_state(config=config)"
   ]
  },
  {
   "cell_type": "code",
   "execution_count": null,
   "id": "1a8465a2",
   "metadata": {},
   "outputs": [],
   "source": []
  }
 ],
 "metadata": {
  "kernelspec": {
   "display_name": "Python 3",
   "language": "python",
   "name": "python3"
  },
  "language_info": {
   "codemirror_mode": {
    "name": "ipython",
    "version": 3
   },
   "file_extension": ".py",
   "mimetype": "text/x-python",
   "name": "python",
   "nbconvert_exporter": "python",
   "pygments_lexer": "ipython3",
   "version": "3.10.7"
  }
 },
 "nbformat": 4,
 "nbformat_minor": 5
}
