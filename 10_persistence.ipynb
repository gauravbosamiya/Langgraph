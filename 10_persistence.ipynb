{
 "cells": [
  {
   "cell_type": "code",
   "execution_count": 56,
   "id": "acb2e56c",
   "metadata": {},
   "outputs": [],
   "source": [
    "from langgraph.graph import StateGraph, START, END\n",
    "from langgraph.checkpoint.memory import InMemorySaver\n",
    "from langchain_groq import ChatGroq\n",
    "from dotenv import load_dotenv\n",
    "from typing import TypedDict"
   ]
  },
  {
   "cell_type": "code",
   "execution_count": 57,
   "id": "372fda81",
   "metadata": {},
   "outputs": [
    {
     "data": {
      "text/plain": [
       "True"
      ]
     },
     "execution_count": 57,
     "metadata": {},
     "output_type": "execute_result"
    }
   ],
   "source": [
    "load_dotenv()"
   ]
  },
  {
   "cell_type": "code",
   "execution_count": 58,
   "id": "7bf79a13",
   "metadata": {},
   "outputs": [],
   "source": [
    "llm = ChatGroq(model=\"llama-3.1-8b-instant\")"
   ]
  },
  {
   "cell_type": "code",
   "execution_count": 59,
   "id": "86d2f2c3",
   "metadata": {},
   "outputs": [],
   "source": [
    "class JokeState(TypedDict):\n",
    "    topic:str\n",
    "    joke:str\n",
    "    explanation:str"
   ]
  },
  {
   "cell_type": "code",
   "execution_count": 60,
   "id": "1281704a",
   "metadata": {},
   "outputs": [],
   "source": [
    "def joke_generator(state: JokeState):\n",
    "    prompt=f\"generate a joke on the topic {state['topic']}\"\n",
    "    response=llm.invoke(prompt).content\n",
    "    return {'joke':response}\n",
    "\n",
    "\n",
    "def explaination_generator(state: JokeState):\n",
    "    prompt=f\"write an explanation fot the joke - {state['joke']}\"\n",
    "    response=llm.invoke(prompt).content\n",
    "    \n",
    "    return {'explanation':response}\n",
    "    \n"
   ]
  },
  {
   "cell_type": "code",
   "execution_count": 61,
   "id": "a30050d1",
   "metadata": {},
   "outputs": [
    {
     "data": {
      "image/png": "[encoded data removed]",
      "text/plain": [
       "<langgraph.graph.state.CompiledStateGraph object at 0x0000022961DAB6D0>"
      ]
     },
     "execution_count": 61,
     "metadata": {},
     "output_type": "execute_result"
    }
   ],
   "source": [
    "\n",
    "graph=StateGraph(JokeState)\n",
    "graph.add_node(\"joke_generator\",joke_generator)\n",
    "graph.add_node(\"explanation_generator\",explaination_generator)\n",
    "\n",
    "graph.add_edge(START,\"joke_generator\")\n",
    "graph.add_edge(\"joke_generator\",\"explanation_generator\")\n",
    "graph.add_edge(\"explanation_generator\",END)\n",
    "\n",
    "checkpointer=InMemorySaver()\n",
    "\n",
    "\n",
    "workflow=graph.compile(checkpointer=checkpointer)\n",
    "workflow"
   ]
  },
  {
   "cell_type": "code",
   "execution_count": 62,
   "id": "d69cafd1",
   "metadata": {},
   "outputs": [
    {
     "data": {
      "text/plain": [
       "{'topic': 'VIT Vellore placement',\n",
       " 'joke': \"Why did the VIT Vellore student bring a ladder to the placement drive?\\n\\nBecause they wanted to 'take their chances' and 'elevate' their career prospects, but in the end, they 'stepped down' when they didn't get placed.\",\n",
       " 'explanation': \"This joke is a play on words, using puns related to the concept of 'taking chances' and 'elevating' career prospects, but also referencing the physical act of stepping up or down a ladder. \\n\\nHere's a breakdown of the joke:\\n\\n1. The student 'wanted to take their chances' - This is a common phrase used to describe someone trying to seize an opportunity, in this case, a placement drive. It's a common idiomatic expression that means to try one's luck.\\n\\n2. 'Elevate their career prospects' - This is a phrase used to describe improving one's career situation or status. However, in this joke, it's also a play on the physical act of moving up a ladder.\\n\\n3. 'In the end, they stepped down' - When someone steps down a ladder, it means they are moving down from a higher position to a lower one. In this joke, it's a pun on the phrase 'stepping down' which can also mean giving up a position or opportunity.\\n\\nThe joke relies on this double meaning to create a humorous effect, connecting the literal act of stepping up or down a ladder to the idiomatic expressions related to career advancement and giving up opportunities.\"}"
      ]
     },
     "execution_count": 62,
     "metadata": {},
     "output_type": "execute_result"
    }
   ],
   "source": [
    "config1={\"configurable\":{\"thread_id\":\"1\"}}\n",
    "workflow.invoke({\"topic\":\"VIT Vellore placement\"}, config=config1)"
   ]
  },
  {
   "cell_type": "code",
   "execution_count": 63,
   "id": "53bb3d67",
   "metadata": {},
   "outputs": [
    {
     "data": {
      "text/plain": [
       "StateSnapshot(values={'topic': 'VIT Vellore placement', 'joke': \"Why did the VIT Vellore student bring a ladder to the placement drive?\\n\\nBecause they wanted to 'take their chances' and 'elevate' their career prospects, but in the end, they 'stepped down' when they didn't get placed.\", 'explanation': \"This joke is a play on words, using puns related to the concept of 'taking chances' and 'elevating' career prospects, but also referencing the physical act of stepping up or down a ladder. \\n\\nHere's a breakdown of the joke:\\n\\n1. The student 'wanted to take their chances' - This is a common phrase used to describe someone trying to seize an opportunity, in this case, a placement drive. It's a common idiomatic expression that means to try one's luck.\\n\\n2. 'Elevate their career prospects' - This is a phrase used to describe improving one's career situation or status. However, in this joke, it's also a play on the physical act of moving up a ladder.\\n\\n3. 'In the end, they stepped down' - When someone steps down a ladder, it means they are moving down from a higher position to a lower one. In this joke, it's a pun on the phrase 'stepping down' which can also mean giving up a position or opportunity.\\n\\nThe joke relies on this double meaning to create a humorous effect, connecting the literal act of stepping up or down a ladder to the idiomatic expressions related to career advancement and giving up opportunities.\"}, next=(), config={'configurable': {'thread_id': '1', 'checkpoint_ns': '', 'checkpoint_id': '1f070997-2b21-625e-8002-b2b4be06eddf'}}, metadata={'source': 'loop', 'step': 2, 'parents': {}, 'thread_id': '1'}, created_at='2025-08-03T18:41:20.506531+00:00', parent_config={'configurable': {'thread_id': '1', 'checkpoint_ns': '', 'checkpoint_id': '1f070997-1e19-6547-8001-400775219da0'}}, tasks=(), interrupts=())"
      ]
     },
     "execution_count": 63,
     "metadata": {},
     "output_type": "execute_result"
    }
   ],
   "source": [
    "workflow.get_state(config1)"
   ]
  },
  {
   "cell_type": "code",
   "execution_count": 64,
   "id": "59a109b9",
   "metadata": {},
   "outputs": [
    {
     "data": {
      "text/plain": [
       "[StateSnapshot(values={'topic': 'VIT Vellore placement', 'joke': \"Why did the VIT Vellore student bring a ladder to the placement drive?\\n\\nBecause they wanted to 'take their chances' and 'elevate' their career prospects, but in the end, they 'stepped down' when they didn't get placed.\", 'explanation': \"This joke is a play on words, using puns related to the concept of 'taking chances' and 'elevating' career prospects, but also referencing the physical act of stepping up or down a ladder. \\n\\nHere's a breakdown of the joke:\\n\\n1. The student 'wanted to take their chances' - This is a common phrase used to describe someone trying to seize an opportunity, in this case, a placement drive. It's a common idiomatic expression that means to try one's luck.\\n\\n2. 'Elevate their career prospects' - This is a phrase used to describe improving one's career situation or status. However, in this joke, it's also a play on the physical act of moving up a ladder.\\n\\n3. 'In the end, they stepped down' - When someone steps down a ladder, it means they are moving down from a higher position to a lower one. In this joke, it's a pun on the phrase 'stepping down' which can also mean giving up a position or opportunity.\\n\\nThe joke relies on this double meaning to create a humorous effect, connecting the literal act of stepping up or down a ladder to the idiomatic expressions related to career advancement and giving up opportunities.\"}, next=(), config={'configurable': {'thread_id': '1', 'checkpoint_ns': '', 'checkpoint_id': '1f070997-2b21-625e-8002-b2b4be06eddf'}}, metadata={'source': 'loop', 'step': 2, 'parents': {}, 'thread_id': '1'}, created_at='2025-08-03T18:41:20.506531+00:00', parent_config={'configurable': {'thread_id': '1', 'checkpoint_ns': '', 'checkpoint_id': '1f070997-1e19-6547-8001-400775219da0'}}, tasks=(), interrupts=()),\n",
       " StateSnapshot(values={'topic': 'VIT Vellore placement', 'joke': \"Why did the VIT Vellore student bring a ladder to the placement drive?\\n\\nBecause they wanted to 'take their chances' and 'elevate' their career prospects, but in the end, they 'stepped down' when they didn't get placed.\"}, next=('explanation_generator',), config={'configurable': {'thread_id': '1', 'checkpoint_ns': '', 'checkpoint_id': '1f070997-1e19-6547-8001-400775219da0'}}, metadata={'source': 'loop', 'step': 1, 'parents': {}, 'thread_id': '1'}, created_at='2025-08-03T18:41:19.140179+00:00', parent_config={'configurable': {'thread_id': '1', 'checkpoint_ns': '', 'checkpoint_id': '1f070997-14e0-691f-8000-5307ef0c0439'}}, tasks=(PregelTask(id='388350c1-8c87-fe67-ab06-278145415ace', name='explanation_generator', path=('__pregel_pull', 'explanation_generator'), error=None, interrupts=(), state=None, result={'explanation': \"This joke is a play on words, using puns related to the concept of 'taking chances' and 'elevating' career prospects, but also referencing the physical act of stepping up or down a ladder. \\n\\nHere's a breakdown of the joke:\\n\\n1. The student 'wanted to take their chances' - This is a common phrase used to describe someone trying to seize an opportunity, in this case, a placement drive. It's a common idiomatic expression that means to try one's luck.\\n\\n2. 'Elevate their career prospects' - This is a phrase used to describe improving one's career situation or status. However, in this joke, it's also a play on the physical act of moving up a ladder.\\n\\n3. 'In the end, they stepped down' - When someone steps down a ladder, it means they are moving down from a higher position to a lower one. In this joke, it's a pun on the phrase 'stepping down' which can also mean giving up a position or opportunity.\\n\\nThe joke relies on this double meaning to create a humorous effect, connecting the literal act of stepping up or down a ladder to the idiomatic expressions related to career advancement and giving up opportunities.\"}),), interrupts=()),\n",
       " StateSnapshot(values={'topic': 'VIT Vellore placement'}, next=('joke_generator',), config={'configurable': {'thread_id': '1', 'checkpoint_ns': '', 'checkpoint_id': '1f070997-14e0-691f-8000-5307ef0c0439'}}, metadata={'source': 'loop', 'step': 0, 'parents': {}, 'thread_id': '1'}, created_at='2025-08-03T18:41:18.173212+00:00', parent_config={'configurable': {'thread_id': '1', 'checkpoint_ns': '', 'checkpoint_id': '1f070997-14b7-6376-bfff-11f4ea4724d2'}}, tasks=(PregelTask(id='5e92a881-a215-c9c4-20a4-4003a0927476', name='joke_generator', path=('__pregel_pull', 'joke_generator'), error=None, interrupts=(), state=None, result={'joke': \"Why did the VIT Vellore student bring a ladder to the placement drive?\\n\\nBecause they wanted to 'take their chances' and 'elevate' their career prospects, but in the end, they 'stepped down' when they didn't get placed.\"}),), interrupts=()),\n",
       " StateSnapshot(values={}, next=('__start__',), config={'configurable': {'thread_id': '1', 'checkpoint_ns': '', 'checkpoint_id': '1f070997-14b7-6376-bfff-11f4ea4724d2'}}, metadata={'source': 'input', 'step': -1, 'parents': {}, 'thread_id': '1'}, created_at='2025-08-03T18:41:18.156274+00:00', parent_config=None, tasks=(PregelTask(id='7b7eeb0f-ee8d-1282-5013-4c9a3fc7a676', name='__start__', path=('__pregel_pull', '__start__'), error=None, interrupts=(), state=None, result={'topic': 'VIT Vellore placement'}),), interrupts=())]"
      ]
     },
     "execution_count": 64,
     "metadata": {},
     "output_type": "execute_result"
    }
   ],
   "source": [
    "list(workflow.get_state_history(config1))"
   ]
  },
  {
   "cell_type": "code",
   "execution_count": 65,
   "id": "db133e43",
   "metadata": {},
   "outputs": [
    {
     "data": {
      "text/plain": [
       "{'topic': 'pizza',\n",
       " 'joke': 'Why was the pizza in a bad mood? \\n\\nBecause it was feeling a little crusty.',\n",
       " 'explanation': 'The joke is a play on words, using a pun to create humor. The punchline \"feeling a little crusty\" has a double meaning.\\n\\nIn this context, \"crusty\" is a common description for pizza, referring to the outer layer of the bread (the crust). However, in everyday language, \"feeling a little crusty\" can also mean being in a bad mood or irritable.\\n\\nThe joke relies on the unexpected twist on the word\\'s meaning, creating a clever connection between the setup (\"the pizza in a bad mood\") and the punchline. It\\'s a lighthearted and amusing play on words that requires a quick mental shift to understand the pun.'}"
      ]
     },
     "execution_count": 65,
     "metadata": {},
     "output_type": "execute_result"
    }
   ],
   "source": [
    "config2={\"configurable\":{\"thread_id\":\"2\"}}\n",
    "workflow.invoke({\"topic\":\"pizza\"}, config=config2)"
   ]
  },
  {
   "cell_type": "code",
   "execution_count": 66,
   "id": "1277d9c9",
   "metadata": {},
   "outputs": [
    {
     "data": {
      "text/plain": [
       "StateSnapshot(values={'topic': 'pizza', 'joke': 'Why was the pizza in a bad mood? \\n\\nBecause it was feeling a little crusty.', 'explanation': 'The joke is a play on words, using a pun to create humor. The punchline \"feeling a little crusty\" has a double meaning.\\n\\nIn this context, \"crusty\" is a common description for pizza, referring to the outer layer of the bread (the crust). However, in everyday language, \"feeling a little crusty\" can also mean being in a bad mood or irritable.\\n\\nThe joke relies on the unexpected twist on the word\\'s meaning, creating a clever connection between the setup (\"the pizza in a bad mood\") and the punchline. It\\'s a lighthearted and amusing play on words that requires a quick mental shift to understand the pun.'}, next=(), config={'configurable': {'thread_id': '2', 'checkpoint_ns': '', 'checkpoint_id': '1f070997-62b7-6553-8002-37751c5d6769'}}, metadata={'source': 'loop', 'step': 2, 'parents': {}, 'thread_id': '2'}, created_at='2025-08-03T18:41:26.335214+00:00', parent_config={'configurable': {'thread_id': '2', 'checkpoint_ns': '', 'checkpoint_id': '1f070997-5f0f-61bb-8001-6a87261275ab'}}, tasks=(), interrupts=())"
      ]
     },
     "execution_count": 66,
     "metadata": {},
     "output_type": "execute_result"
    }
   ],
   "source": [
    "workflow.get_state(config2)"
   ]
  },
  {
   "cell_type": "code",
   "execution_count": 67,
   "id": "a04f8754",
   "metadata": {},
   "outputs": [
    {
     "data": {
      "text/plain": [
       "[StateSnapshot(values={'topic': 'pizza', 'joke': 'Why was the pizza in a bad mood? \\n\\nBecause it was feeling a little crusty.', 'explanation': 'The joke is a play on words, using a pun to create humor. The punchline \"feeling a little crusty\" has a double meaning.\\n\\nIn this context, \"crusty\" is a common description for pizza, referring to the outer layer of the bread (the crust). However, in everyday language, \"feeling a little crusty\" can also mean being in a bad mood or irritable.\\n\\nThe joke relies on the unexpected twist on the word\\'s meaning, creating a clever connection between the setup (\"the pizza in a bad mood\") and the punchline. It\\'s a lighthearted and amusing play on words that requires a quick mental shift to understand the pun.'}, next=(), config={'configurable': {'thread_id': '2', 'checkpoint_ns': '', 'checkpoint_id': '1f070997-62b7-6553-8002-37751c5d6769'}}, metadata={'source': 'loop', 'step': 2, 'parents': {}, 'thread_id': '2'}, created_at='2025-08-03T18:41:26.335214+00:00', parent_config={'configurable': {'thread_id': '2', 'checkpoint_ns': '', 'checkpoint_id': '1f070997-5f0f-61bb-8001-6a87261275ab'}}, tasks=(), interrupts=()),\n",
       " StateSnapshot(values={'topic': 'pizza', 'joke': 'Why was the pizza in a bad mood? \\n\\nBecause it was feeling a little crusty.'}, next=('explanation_generator',), config={'configurable': {'thread_id': '2', 'checkpoint_ns': '', 'checkpoint_id': '1f070997-5f0f-61bb-8001-6a87261275ab'}}, metadata={'source': 'loop', 'step': 1, 'parents': {}, 'thread_id': '2'}, created_at='2025-08-03T18:41:25.951737+00:00', parent_config={'configurable': {'thread_id': '2', 'checkpoint_ns': '', 'checkpoint_id': '1f070997-47db-6321-8000-f39a9307c190'}}, tasks=(PregelTask(id='ff7a904e-545c-b30c-9d20-a86f19822e2f', name='explanation_generator', path=('__pregel_pull', 'explanation_generator'), error=None, interrupts=(), state=None, result={'explanation': 'The joke is a play on words, using a pun to create humor. The punchline \"feeling a little crusty\" has a double meaning.\\n\\nIn this context, \"crusty\" is a common description for pizza, referring to the outer layer of the bread (the crust). However, in everyday language, \"feeling a little crusty\" can also mean being in a bad mood or irritable.\\n\\nThe joke relies on the unexpected twist on the word\\'s meaning, creating a clever connection between the setup (\"the pizza in a bad mood\") and the punchline. It\\'s a lighthearted and amusing play on words that requires a quick mental shift to understand the pun.'}),), interrupts=()),\n",
       " StateSnapshot(values={'topic': 'pizza'}, next=('joke_generator',), config={'configurable': {'thread_id': '2', 'checkpoint_ns': '', 'checkpoint_id': '1f070997-47db-6321-8000-f39a9307c190'}}, metadata={'source': 'loop', 'step': 0, 'parents': {}, 'thread_id': '2'}, created_at='2025-08-03T18:41:23.518748+00:00', parent_config={'configurable': {'thread_id': '2', 'checkpoint_ns': '', 'checkpoint_id': '1f070997-47d6-6dae-bfff-b8afb268562b'}}, tasks=(PregelTask(id='92208978-4183-85e4-43ad-717ea19b94c8', name='joke_generator', path=('__pregel_pull', 'joke_generator'), error=None, interrupts=(), state=None, result={'joke': 'Why was the pizza in a bad mood? \\n\\nBecause it was feeling a little crusty.'}),), interrupts=()),\n",
       " StateSnapshot(values={}, next=('__start__',), config={'configurable': {'thread_id': '2', 'checkpoint_ns': '', 'checkpoint_id': '1f070997-47d6-6dae-bfff-b8afb268562b'}}, metadata={'source': 'input', 'step': -1, 'parents': {}, 'thread_id': '2'}, created_at='2025-08-03T18:41:23.516971+00:00', parent_config=None, tasks=(PregelTask(id='a1243cd7-16f7-c2cc-550c-e97d827e5bf7', name='__start__', path=('__pregel_pull', '__start__'), error=None, interrupts=(), state=None, result={'topic': 'pizza'}),), interrupts=())]"
      ]
     },
     "execution_count": 67,
     "metadata": {},
     "output_type": "execute_result"
    }
   ],
   "source": [
    "list(workflow.get_state_history(config2))"
   ]
  },
  {
   "cell_type": "markdown",
   "id": "a66d183f",
   "metadata": {},
   "source": [
    "# Time Travel"
   ]
  },
  {
   "cell_type": "code",
   "execution_count": 70,
   "id": "887ab3a0",
   "metadata": {},
   "outputs": [
    {
     "data": {
      "text/plain": [
       "StateSnapshot(values={'topic': 'pizza'}, next=('joke_generator',), config={'configurable': {'thread_id': '2', 'checkpoint_id': '1f070997-47db-6321-8000-f39a9307c190'}}, metadata={'source': 'loop', 'step': 0, 'parents': {}, 'thread_id': '2'}, created_at='2025-08-03T18:41:23.518748+00:00', parent_config={'configurable': {'thread_id': '2', 'checkpoint_ns': '', 'checkpoint_id': '1f070997-47d6-6dae-bfff-b8afb268562b'}}, tasks=(PregelTask(id='92208978-4183-85e4-43ad-717ea19b94c8', name='joke_generator', path=('__pregel_pull', 'joke_generator'), error=None, interrupts=(), state=None, result={'joke': 'Why was the pizza in a bad mood? \\n\\nBecause it was feeling a little crusty.'}),), interrupts=())"
      ]
     },
     "execution_count": 70,
     "metadata": {},
     "output_type": "execute_result"
    }
   ],
   "source": [
    "workflow.get_state({\"configurable\":{\"thread_id\":\"2\",\"checkpoint_id\":\"1f070997-47db-6321-8000-f39a9307c190\"}})"
   ]
  },
  {
   "cell_type": "code",
   "execution_count": 71,
   "id": "efb55e80",
   "metadata": {},
   "outputs": [
    {
     "data": {
      "text/plain": [
       "{'topic': 'pizza',\n",
       " 'joke': 'Why did the pizza go to therapy? \\n\\nBecause it was feeling a little crusty.',\n",
       " 'explanation': 'This joke is an example of a play on words, also known as a pun. A pun involves using a word or phrase that has multiple meanings or sounds similar to another word or phrase, often to create a humorous effect.\\n\\nIn this joke, the word \"crusty\" has a double meaning. \\n\\n1. In a literal sense, pizza dough is often crusty, which means it has a hard outer layer.\\n2. In an idiomatic sense, \"feeling a little crusty\" is a common expression used to describe someone who is feeling grumpy, irritable, or a bit rough around the edges.\\n\\nBy using the word \"crusty\" in both senses, the joke creates a clever connection between the pizza\\'s texture and its emotional state, making it a clever play on words and a amusing pun.'}"
      ]
     },
     "execution_count": 71,
     "metadata": {},
     "output_type": "execute_result"
    }
   ],
   "source": [
    "workflow.invoke(None,{\"configurable\":{\"thread_id\":\"2\",\"checkpoint_id\":\"1f070997-47db-6321-8000-f39a9307c190\"}} )"
   ]
  },
  {
   "cell_type": "code",
   "execution_count": 73,
   "id": "f9e7684d",
   "metadata": {},
   "outputs": [
    {
     "data": {
      "text/plain": [
       "[StateSnapshot(values={'topic': 'pizza', 'joke': 'Why did the pizza go to therapy? \\n\\nBecause it was feeling a little crusty.', 'explanation': 'This joke is an example of a play on words, also known as a pun. A pun involves using a word or phrase that has multiple meanings or sounds similar to another word or phrase, often to create a humorous effect.\\n\\nIn this joke, the word \"crusty\" has a double meaning. \\n\\n1. In a literal sense, pizza dough is often crusty, which means it has a hard outer layer.\\n2. In an idiomatic sense, \"feeling a little crusty\" is a common expression used to describe someone who is feeling grumpy, irritable, or a bit rough around the edges.\\n\\nBy using the word \"crusty\" in both senses, the joke creates a clever connection between the pizza\\'s texture and its emotional state, making it a clever play on words and a amusing pun.'}, next=(), config={'configurable': {'thread_id': '2', 'checkpoint_ns': '', 'checkpoint_id': '1f07099a-f9fe-6eeb-8002-47d00a678bbd'}}, metadata={'source': 'loop', 'step': 2, 'parents': {}, 'thread_id': '2'}, created_at='2025-08-03T18:43:02.728676+00:00', parent_config={'configurable': {'thread_id': '2', 'checkpoint_ns': '', 'checkpoint_id': '1f07099a-f159-6832-8001-749042fe11bb'}}, tasks=(), interrupts=()),\n",
       " StateSnapshot(values={'topic': 'pizza', 'joke': 'Why did the pizza go to therapy? \\n\\nBecause it was feeling a little crusty.'}, next=('explanation_generator',), config={'configurable': {'thread_id': '2', 'checkpoint_ns': '', 'checkpoint_id': '1f07099a-f159-6832-8001-749042fe11bb'}}, metadata={'source': 'loop', 'step': 1, 'parents': {}, 'thread_id': '2'}, created_at='2025-08-03T18:43:01.822059+00:00', parent_config={'configurable': {'thread_id': '2', 'checkpoint_ns': '', 'checkpoint_id': '1f070997-47db-6321-8000-f39a9307c190'}}, tasks=(PregelTask(id='ea65222e-1566-6ef6-b226-b6eee401b786', name='explanation_generator', path=('__pregel_pull', 'explanation_generator'), error=None, interrupts=(), state=None, result={'explanation': 'This joke is an example of a play on words, also known as a pun. A pun involves using a word or phrase that has multiple meanings or sounds similar to another word or phrase, often to create a humorous effect.\\n\\nIn this joke, the word \"crusty\" has a double meaning. \\n\\n1. In a literal sense, pizza dough is often crusty, which means it has a hard outer layer.\\n2. In an idiomatic sense, \"feeling a little crusty\" is a common expression used to describe someone who is feeling grumpy, irritable, or a bit rough around the edges.\\n\\nBy using the word \"crusty\" in both senses, the joke creates a clever connection between the pizza\\'s texture and its emotional state, making it a clever play on words and a amusing pun.'}),), interrupts=()),\n",
       " StateSnapshot(values={'topic': 'pizza', 'joke': 'Why was the pizza in a bad mood? \\n\\nBecause it was feeling a little crusty.', 'explanation': 'The joke is a play on words, using a pun to create humor. The punchline \"feeling a little crusty\" has a double meaning.\\n\\nIn this context, \"crusty\" is a common description for pizza, referring to the outer layer of the bread (the crust). However, in everyday language, \"feeling a little crusty\" can also mean being in a bad mood or irritable.\\n\\nThe joke relies on the unexpected twist on the word\\'s meaning, creating a clever connection between the setup (\"the pizza in a bad mood\") and the punchline. It\\'s a lighthearted and amusing play on words that requires a quick mental shift to understand the pun.'}, next=(), config={'configurable': {'thread_id': '2', 'checkpoint_ns': '', 'checkpoint_id': '1f070997-62b7-6553-8002-37751c5d6769'}}, metadata={'source': 'loop', 'step': 2, 'parents': {}, 'thread_id': '2'}, created_at='2025-08-03T18:41:26.335214+00:00', parent_config={'configurable': {'thread_id': '2', 'checkpoint_ns': '', 'checkpoint_id': '1f070997-5f0f-61bb-8001-6a87261275ab'}}, tasks=(), interrupts=()),\n",
       " StateSnapshot(values={'topic': 'pizza', 'joke': 'Why was the pizza in a bad mood? \\n\\nBecause it was feeling a little crusty.'}, next=('explanation_generator',), config={'configurable': {'thread_id': '2', 'checkpoint_ns': '', 'checkpoint_id': '1f070997-5f0f-61bb-8001-6a87261275ab'}}, metadata={'source': 'loop', 'step': 1, 'parents': {}, 'thread_id': '2'}, created_at='2025-08-03T18:41:25.951737+00:00', parent_config={'configurable': {'thread_id': '2', 'checkpoint_ns': '', 'checkpoint_id': '1f070997-47db-6321-8000-f39a9307c190'}}, tasks=(PregelTask(id='ff7a904e-545c-b30c-9d20-a86f19822e2f', name='explanation_generator', path=('__pregel_pull', 'explanation_generator'), error=None, interrupts=(), state=None, result={'explanation': 'The joke is a play on words, using a pun to create humor. The punchline \"feeling a little crusty\" has a double meaning.\\n\\nIn this context, \"crusty\" is a common description for pizza, referring to the outer layer of the bread (the crust). However, in everyday language, \"feeling a little crusty\" can also mean being in a bad mood or irritable.\\n\\nThe joke relies on the unexpected twist on the word\\'s meaning, creating a clever connection between the setup (\"the pizza in a bad mood\") and the punchline. It\\'s a lighthearted and amusing play on words that requires a quick mental shift to understand the pun.'}),), interrupts=()),\n",
       " StateSnapshot(values={'topic': 'pizza'}, next=('joke_generator',), config={'configurable': {'thread_id': '2', 'checkpoint_ns': '', 'checkpoint_id': '1f070997-47db-6321-8000-f39a9307c190'}}, metadata={'source': 'loop', 'step': 0, 'parents': {}, 'thread_id': '2'}, created_at='2025-08-03T18:41:23.518748+00:00', parent_config={'configurable': {'thread_id': '2', 'checkpoint_ns': '', 'checkpoint_id': '1f070997-47d6-6dae-bfff-b8afb268562b'}}, tasks=(PregelTask(id='92208978-4183-85e4-43ad-717ea19b94c8', name='joke_generator', path=('__pregel_pull', 'joke_generator'), error=None, interrupts=(), state=None, result={'joke': 'Why was the pizza in a bad mood? \\n\\nBecause it was feeling a little crusty.'}),), interrupts=()),\n",
       " StateSnapshot(values={}, next=('__start__',), config={'configurable': {'thread_id': '2', 'checkpoint_ns': '', 'checkpoint_id': '1f070997-47d6-6dae-bfff-b8afb268562b'}}, metadata={'source': 'input', 'step': -1, 'parents': {}, 'thread_id': '2'}, created_at='2025-08-03T18:41:23.516971+00:00', parent_config=None, tasks=(PregelTask(id='a1243cd7-16f7-c2cc-550c-e97d827e5bf7', name='__start__', path=('__pregel_pull', '__start__'), error=None, interrupts=(), state=None, result={'topic': 'pizza'}),), interrupts=())]"
      ]
     },
     "execution_count": 73,
     "metadata": {},
     "output_type": "execute_result"
    }
   ],
   "source": [
    "list(workflow.get_state_history(config2))"
   ]
  },
  {
   "cell_type": "markdown",
   "id": "d8f3dd89",
   "metadata": {},
   "source": [
    "# Update State"
   ]
  },
  {
   "cell_type": "code",
   "execution_count": 74,
   "id": "31b3767b",
   "metadata": {},
   "outputs": [
    {
     "data": {
      "text/plain": [
       "{'configurable': {'thread_id': '2',\n",
       "  'checkpoint_ns': '',\n",
       "  'checkpoint_id': '1f0709a2-0e21-66f9-8001-cd4ca647da04'}}"
      ]
     },
     "execution_count": 74,
     "metadata": {},
     "output_type": "execute_result"
    }
   ],
   "source": [
    "workflow.update_state({\"configurable\":{\"thread_id\":\"2\",\"checkpoint_id\":\"1f070997-47db-6321-8000-f39a9307c190\",\"checkpoint_ns\":\"\"}}, {\"topic\":\"samosa\"})"
   ]
  },
  {
   "cell_type": "code",
   "execution_count": 75,
   "id": "ed9c3ace",
   "metadata": {},
   "outputs": [
    {
     "data": {
      "text/plain": [
       "[StateSnapshot(values={'topic': 'samosa'}, next=('joke_generator',), config={'configurable': {'thread_id': '2', 'checkpoint_ns': '', 'checkpoint_id': '1f0709a2-0e21-66f9-8001-cd4ca647da04'}}, metadata={'source': 'update', 'step': 1, 'parents': {}, 'thread_id': '2'}, created_at='2025-08-03T18:46:12.744780+00:00', parent_config={'configurable': {'thread_id': '2', 'checkpoint_ns': '', 'checkpoint_id': '1f070997-47db-6321-8000-f39a9307c190'}}, tasks=(PregelTask(id='0924fc12-df5f-17da-805b-41c2802b3048', name='joke_generator', path=('__pregel_pull', 'joke_generator'), error=None, interrupts=(), state=None, result=None),), interrupts=()),\n",
       " StateSnapshot(values={'topic': 'pizza', 'joke': 'Why did the pizza go to therapy? \\n\\nBecause it was feeling a little crusty.', 'explanation': 'This joke is an example of a play on words, also known as a pun. A pun involves using a word or phrase that has multiple meanings or sounds similar to another word or phrase, often to create a humorous effect.\\n\\nIn this joke, the word \"crusty\" has a double meaning. \\n\\n1. In a literal sense, pizza dough is often crusty, which means it has a hard outer layer.\\n2. In an idiomatic sense, \"feeling a little crusty\" is a common expression used to describe someone who is feeling grumpy, irritable, or a bit rough around the edges.\\n\\nBy using the word \"crusty\" in both senses, the joke creates a clever connection between the pizza\\'s texture and its emotional state, making it a clever play on words and a amusing pun.'}, next=(), config={'configurable': {'thread_id': '2', 'checkpoint_ns': '', 'checkpoint_id': '1f07099a-f9fe-6eeb-8002-47d00a678bbd'}}, metadata={'source': 'loop', 'step': 2, 'parents': {}, 'thread_id': '2'}, created_at='2025-08-03T18:43:02.728676+00:00', parent_config={'configurable': {'thread_id': '2', 'checkpoint_ns': '', 'checkpoint_id': '1f07099a-f159-6832-8001-749042fe11bb'}}, tasks=(), interrupts=()),\n",
       " StateSnapshot(values={'topic': 'pizza', 'joke': 'Why did the pizza go to therapy? \\n\\nBecause it was feeling a little crusty.'}, next=('explanation_generator',), config={'configurable': {'thread_id': '2', 'checkpoint_ns': '', 'checkpoint_id': '1f07099a-f159-6832-8001-749042fe11bb'}}, metadata={'source': 'loop', 'step': 1, 'parents': {}, 'thread_id': '2'}, created_at='2025-08-03T18:43:01.822059+00:00', parent_config={'configurable': {'thread_id': '2', 'checkpoint_ns': '', 'checkpoint_id': '1f070997-47db-6321-8000-f39a9307c190'}}, tasks=(PregelTask(id='ea65222e-1566-6ef6-b226-b6eee401b786', name='explanation_generator', path=('__pregel_pull', 'explanation_generator'), error=None, interrupts=(), state=None, result={'explanation': 'This joke is an example of a play on words, also known as a pun. A pun involves using a word or phrase that has multiple meanings or sounds similar to another word or phrase, often to create a humorous effect.\\n\\nIn this joke, the word \"crusty\" has a double meaning. \\n\\n1. In a literal sense, pizza dough is often crusty, which means it has a hard outer layer.\\n2. In an idiomatic sense, \"feeling a little crusty\" is a common expression used to describe someone who is feeling grumpy, irritable, or a bit rough around the edges.\\n\\nBy using the word \"crusty\" in both senses, the joke creates a clever connection between the pizza\\'s texture and its emotional state, making it a clever play on words and a amusing pun.'}),), interrupts=()),\n",
       " StateSnapshot(values={'topic': 'pizza', 'joke': 'Why was the pizza in a bad mood? \\n\\nBecause it was feeling a little crusty.', 'explanation': 'The joke is a play on words, using a pun to create humor. The punchline \"feeling a little crusty\" has a double meaning.\\n\\nIn this context, \"crusty\" is a common description for pizza, referring to the outer layer of the bread (the crust). However, in everyday language, \"feeling a little crusty\" can also mean being in a bad mood or irritable.\\n\\nThe joke relies on the unexpected twist on the word\\'s meaning, creating a clever connection between the setup (\"the pizza in a bad mood\") and the punchline. It\\'s a lighthearted and amusing play on words that requires a quick mental shift to understand the pun.'}, next=(), config={'configurable': {'thread_id': '2', 'checkpoint_ns': '', 'checkpoint_id': '1f070997-62b7-6553-8002-37751c5d6769'}}, metadata={'source': 'loop', 'step': 2, 'parents': {}, 'thread_id': '2'}, created_at='2025-08-03T18:41:26.335214+00:00', parent_config={'configurable': {'thread_id': '2', 'checkpoint_ns': '', 'checkpoint_id': '1f070997-5f0f-61bb-8001-6a87261275ab'}}, tasks=(), interrupts=()),\n",
       " StateSnapshot(values={'topic': 'pizza', 'joke': 'Why was the pizza in a bad mood? \\n\\nBecause it was feeling a little crusty.'}, next=('explanation_generator',), config={'configurable': {'thread_id': '2', 'checkpoint_ns': '', 'checkpoint_id': '1f070997-5f0f-61bb-8001-6a87261275ab'}}, metadata={'source': 'loop', 'step': 1, 'parents': {}, 'thread_id': '2'}, created_at='2025-08-03T18:41:25.951737+00:00', parent_config={'configurable': {'thread_id': '2', 'checkpoint_ns': '', 'checkpoint_id': '1f070997-47db-6321-8000-f39a9307c190'}}, tasks=(PregelTask(id='ff7a904e-545c-b30c-9d20-a86f19822e2f', name='explanation_generator', path=('__pregel_pull', 'explanation_generator'), error=None, interrupts=(), state=None, result={'explanation': 'The joke is a play on words, using a pun to create humor. The punchline \"feeling a little crusty\" has a double meaning.\\n\\nIn this context, \"crusty\" is a common description for pizza, referring to the outer layer of the bread (the crust). However, in everyday language, \"feeling a little crusty\" can also mean being in a bad mood or irritable.\\n\\nThe joke relies on the unexpected twist on the word\\'s meaning, creating a clever connection between the setup (\"the pizza in a bad mood\") and the punchline. It\\'s a lighthearted and amusing play on words that requires a quick mental shift to understand the pun.'}),), interrupts=()),\n",
       " StateSnapshot(values={'topic': 'pizza'}, next=('joke_generator',), config={'configurable': {'thread_id': '2', 'checkpoint_ns': '', 'checkpoint_id': '1f070997-47db-6321-8000-f39a9307c190'}}, metadata={'source': 'loop', 'step': 0, 'parents': {}, 'thread_id': '2'}, created_at='2025-08-03T18:41:23.518748+00:00', parent_config={'configurable': {'thread_id': '2', 'checkpoint_ns': '', 'checkpoint_id': '1f070997-47d6-6dae-bfff-b8afb268562b'}}, tasks=(PregelTask(id='92208978-4183-85e4-43ad-717ea19b94c8', name='joke_generator', path=('__pregel_pull', 'joke_generator'), error=None, interrupts=(), state=None, result={'joke': 'Why was the pizza in a bad mood? \\n\\nBecause it was feeling a little crusty.'}),), interrupts=()),\n",
       " StateSnapshot(values={}, next=('__start__',), config={'configurable': {'thread_id': '2', 'checkpoint_ns': '', 'checkpoint_id': '1f070997-47d6-6dae-bfff-b8afb268562b'}}, metadata={'source': 'input', 'step': -1, 'parents': {}, 'thread_id': '2'}, created_at='2025-08-03T18:41:23.516971+00:00', parent_config=None, tasks=(PregelTask(id='a1243cd7-16f7-c2cc-550c-e97d827e5bf7', name='__start__', path=('__pregel_pull', '__start__'), error=None, interrupts=(), state=None, result={'topic': 'pizza'}),), interrupts=())]"
      ]
     },
     "execution_count": 75,
     "metadata": {},
     "output_type": "execute_result"
    }
   ],
   "source": [
    "list(workflow.get_state_history(config2))"
   ]
  },
  {
   "cell_type": "code",
   "execution_count": 76,
   "id": "32ecff6a",
   "metadata": {},
   "outputs": [
    {
     "data": {
      "text/plain": [
       "{'topic': 'samosa',\n",
       " 'joke': 'Why did the samosa go to therapy? \\n\\nBecause it was feeling crumby and wanted to fold its issues.',\n",
       " 'explanation': 'This joke is a play on words that combines two common idioms with a clever twist related to the characteristics of a samosa.\\n\\nA samosa is a type of Indian snack that consists of a fried or baked pastry shell filled with spiced potatoes and peas. A key feature of a samosa is its folded shape, which is typically triangular or cone-like.\\n\\nThe phrase \"feeling crumby\" is an idiom that means feeling unwell or unhappy, often used to describe a person who is depressed or stressed. However, in this joke, \"crumby\" also has a double meaning, as the pastry shell of a samosa is often crumbly or fragile.\\n\\nThe punchline \"wanted to fold its issues\" is where the wordplay really happens. A person might say they want to \"fold\" their problems or concerns, meaning to tackle or resolve them. However, in this joke, the samosa literally wants to fold its issues, referencing the pastry\\'s folded shape. The joke creates a clever connection between the samosa\\'s physical characteristics and the emotional problems it\\'s trying to address in therapy.\\n\\nOverall, the joke relies on a combination of wordplay, clever language, and a bit of cultural knowledge about Indian cuisine to create a humorous and unexpected punchline.'}"
      ]
     },
     "execution_count": 76,
     "metadata": {},
     "output_type": "execute_result"
    }
   ],
   "source": [
    "workflow.invoke(None,{\"configurable\":{\"thread_id\":\"2\",\"checkpoint_id\":\"1f0709a2-0e21-66f9-8001-cd4ca647da04\"}} )"
   ]
  },
  {
   "cell_type": "code",
   "execution_count": 77,
   "id": "fafbb3a0",
   "metadata": {},
   "outputs": [
    {
     "data": {
      "text/plain": [
       "[StateSnapshot(values={'topic': 'samosa', 'joke': 'Why did the samosa go to therapy? \\n\\nBecause it was feeling crumby and wanted to fold its issues.', 'explanation': 'This joke is a play on words that combines two common idioms with a clever twist related to the characteristics of a samosa.\\n\\nA samosa is a type of Indian snack that consists of a fried or baked pastry shell filled with spiced potatoes and peas. A key feature of a samosa is its folded shape, which is typically triangular or cone-like.\\n\\nThe phrase \"feeling crumby\" is an idiom that means feeling unwell or unhappy, often used to describe a person who is depressed or stressed. However, in this joke, \"crumby\" also has a double meaning, as the pastry shell of a samosa is often crumbly or fragile.\\n\\nThe punchline \"wanted to fold its issues\" is where the wordplay really happens. A person might say they want to \"fold\" their problems or concerns, meaning to tackle or resolve them. However, in this joke, the samosa literally wants to fold its issues, referencing the pastry\\'s folded shape. The joke creates a clever connection between the samosa\\'s physical characteristics and the emotional problems it\\'s trying to address in therapy.\\n\\nOverall, the joke relies on a combination of wordplay, clever language, and a bit of cultural knowledge about Indian cuisine to create a humorous and unexpected punchline.'}, next=(), config={'configurable': {'thread_id': '2', 'checkpoint_ns': '', 'checkpoint_id': '1f0709a3-e337-67f9-8003-7ec0d065e2f0'}}, metadata={'source': 'loop', 'step': 3, 'parents': {}, 'thread_id': '2'}, created_at='2025-08-03T18:47:01.932031+00:00', parent_config={'configurable': {'thread_id': '2', 'checkpoint_ns': '', 'checkpoint_id': '1f0709a3-dda7-6e78-8002-2e9ca21c88cb'}}, tasks=(), interrupts=()),\n",
       " StateSnapshot(values={'topic': 'samosa', 'joke': 'Why did the samosa go to therapy? \\n\\nBecause it was feeling crumby and wanted to fold its issues.'}, next=('explanation_generator',), config={'configurable': {'thread_id': '2', 'checkpoint_ns': '', 'checkpoint_id': '1f0709a3-dda7-6e78-8002-2e9ca21c88cb'}}, metadata={'source': 'loop', 'step': 2, 'parents': {}, 'thread_id': '2'}, created_at='2025-08-03T18:47:01.348927+00:00', parent_config={'configurable': {'thread_id': '2', 'checkpoint_ns': '', 'checkpoint_id': '1f0709a2-0e21-66f9-8001-cd4ca647da04'}}, tasks=(PregelTask(id='154e42e0-3328-eb3b-473e-b2855b3e2814', name='explanation_generator', path=('__pregel_pull', 'explanation_generator'), error=None, interrupts=(), state=None, result={'explanation': 'This joke is a play on words that combines two common idioms with a clever twist related to the characteristics of a samosa.\\n\\nA samosa is a type of Indian snack that consists of a fried or baked pastry shell filled with spiced potatoes and peas. A key feature of a samosa is its folded shape, which is typically triangular or cone-like.\\n\\nThe phrase \"feeling crumby\" is an idiom that means feeling unwell or unhappy, often used to describe a person who is depressed or stressed. However, in this joke, \"crumby\" also has a double meaning, as the pastry shell of a samosa is often crumbly or fragile.\\n\\nThe punchline \"wanted to fold its issues\" is where the wordplay really happens. A person might say they want to \"fold\" their problems or concerns, meaning to tackle or resolve them. However, in this joke, the samosa literally wants to fold its issues, referencing the pastry\\'s folded shape. The joke creates a clever connection between the samosa\\'s physical characteristics and the emotional problems it\\'s trying to address in therapy.\\n\\nOverall, the joke relies on a combination of wordplay, clever language, and a bit of cultural knowledge about Indian cuisine to create a humorous and unexpected punchline.'}),), interrupts=()),\n",
       " StateSnapshot(values={'topic': 'samosa'}, next=('joke_generator',), config={'configurable': {'thread_id': '2', 'checkpoint_ns': '', 'checkpoint_id': '1f0709a2-0e21-66f9-8001-cd4ca647da04'}}, metadata={'source': 'update', 'step': 1, 'parents': {}, 'thread_id': '2'}, created_at='2025-08-03T18:46:12.744780+00:00', parent_config={'configurable': {'thread_id': '2', 'checkpoint_ns': '', 'checkpoint_id': '1f070997-47db-6321-8000-f39a9307c190'}}, tasks=(PregelTask(id='0924fc12-df5f-17da-805b-41c2802b3048', name='joke_generator', path=('__pregel_pull', 'joke_generator'), error=None, interrupts=(), state=None, result={'joke': 'Why did the samosa go to therapy? \\n\\nBecause it was feeling crumby and wanted to fold its issues.'}),), interrupts=()),\n",
       " StateSnapshot(values={'topic': 'pizza', 'joke': 'Why did the pizza go to therapy? \\n\\nBecause it was feeling a little crusty.', 'explanation': 'This joke is an example of a play on words, also known as a pun. A pun involves using a word or phrase that has multiple meanings or sounds similar to another word or phrase, often to create a humorous effect.\\n\\nIn this joke, the word \"crusty\" has a double meaning. \\n\\n1. In a literal sense, pizza dough is often crusty, which means it has a hard outer layer.\\n2. In an idiomatic sense, \"feeling a little crusty\" is a common expression used to describe someone who is feeling grumpy, irritable, or a bit rough around the edges.\\n\\nBy using the word \"crusty\" in both senses, the joke creates a clever connection between the pizza\\'s texture and its emotional state, making it a clever play on words and a amusing pun.'}, next=(), config={'configurable': {'thread_id': '2', 'checkpoint_ns': '', 'checkpoint_id': '1f07099a-f9fe-6eeb-8002-47d00a678bbd'}}, metadata={'source': 'loop', 'step': 2, 'parents': {}, 'thread_id': '2'}, created_at='2025-08-03T18:43:02.728676+00:00', parent_config={'configurable': {'thread_id': '2', 'checkpoint_ns': '', 'checkpoint_id': '1f07099a-f159-6832-8001-749042fe11bb'}}, tasks=(), interrupts=()),\n",
       " StateSnapshot(values={'topic': 'pizza', 'joke': 'Why did the pizza go to therapy? \\n\\nBecause it was feeling a little crusty.'}, next=('explanation_generator',), config={'configurable': {'thread_id': '2', 'checkpoint_ns': '', 'checkpoint_id': '1f07099a-f159-6832-8001-749042fe11bb'}}, metadata={'source': 'loop', 'step': 1, 'parents': {}, 'thread_id': '2'}, created_at='2025-08-03T18:43:01.822059+00:00', parent_config={'configurable': {'thread_id': '2', 'checkpoint_ns': '', 'checkpoint_id': '1f070997-47db-6321-8000-f39a9307c190'}}, tasks=(PregelTask(id='ea65222e-1566-6ef6-b226-b6eee401b786', name='explanation_generator', path=('__pregel_pull', 'explanation_generator'), error=None, interrupts=(), state=None, result={'explanation': 'This joke is an example of a play on words, also known as a pun. A pun involves using a word or phrase that has multiple meanings or sounds similar to another word or phrase, often to create a humorous effect.\\n\\nIn this joke, the word \"crusty\" has a double meaning. \\n\\n1. In a literal sense, pizza dough is often crusty, which means it has a hard outer layer.\\n2. In an idiomatic sense, \"feeling a little crusty\" is a common expression used to describe someone who is feeling grumpy, irritable, or a bit rough around the edges.\\n\\nBy using the word \"crusty\" in both senses, the joke creates a clever connection between the pizza\\'s texture and its emotional state, making it a clever play on words and a amusing pun.'}),), interrupts=()),\n",
       " StateSnapshot(values={'topic': 'pizza', 'joke': 'Why was the pizza in a bad mood? \\n\\nBecause it was feeling a little crusty.', 'explanation': 'The joke is a play on words, using a pun to create humor. The punchline \"feeling a little crusty\" has a double meaning.\\n\\nIn this context, \"crusty\" is a common description for pizza, referring to the outer layer of the bread (the crust). However, in everyday language, \"feeling a little crusty\" can also mean being in a bad mood or irritable.\\n\\nThe joke relies on the unexpected twist on the word\\'s meaning, creating a clever connection between the setup (\"the pizza in a bad mood\") and the punchline. It\\'s a lighthearted and amusing play on words that requires a quick mental shift to understand the pun.'}, next=(), config={'configurable': {'thread_id': '2', 'checkpoint_ns': '', 'checkpoint_id': '1f070997-62b7-6553-8002-37751c5d6769'}}, metadata={'source': 'loop', 'step': 2, 'parents': {}, 'thread_id': '2'}, created_at='2025-08-03T18:41:26.335214+00:00', parent_config={'configurable': {'thread_id': '2', 'checkpoint_ns': '', 'checkpoint_id': '1f070997-5f0f-61bb-8001-6a87261275ab'}}, tasks=(), interrupts=()),\n",
       " StateSnapshot(values={'topic': 'pizza', 'joke': 'Why was the pizza in a bad mood? \\n\\nBecause it was feeling a little crusty.'}, next=('explanation_generator',), config={'configurable': {'thread_id': '2', 'checkpoint_ns': '', 'checkpoint_id': '1f070997-5f0f-61bb-8001-6a87261275ab'}}, metadata={'source': 'loop', 'step': 1, 'parents': {}, 'thread_id': '2'}, created_at='2025-08-03T18:41:25.951737+00:00', parent_config={'configurable': {'thread_id': '2', 'checkpoint_ns': '', 'checkpoint_id': '1f070997-47db-6321-8000-f39a9307c190'}}, tasks=(PregelTask(id='ff7a904e-545c-b30c-9d20-a86f19822e2f', name='explanation_generator', path=('__pregel_pull', 'explanation_generator'), error=None, interrupts=(), state=None, result={'explanation': 'The joke is a play on words, using a pun to create humor. The punchline \"feeling a little crusty\" has a double meaning.\\n\\nIn this context, \"crusty\" is a common description for pizza, referring to the outer layer of the bread (the crust). However, in everyday language, \"feeling a little crusty\" can also mean being in a bad mood or irritable.\\n\\nThe joke relies on the unexpected twist on the word\\'s meaning, creating a clever connection between the setup (\"the pizza in a bad mood\") and the punchline. It\\'s a lighthearted and amusing play on words that requires a quick mental shift to understand the pun.'}),), interrupts=()),\n",
       " StateSnapshot(values={'topic': 'pizza'}, next=('joke_generator',), config={'configurable': {'thread_id': '2', 'checkpoint_ns': '', 'checkpoint_id': '1f070997-47db-6321-8000-f39a9307c190'}}, metadata={'source': 'loop', 'step': 0, 'parents': {}, 'thread_id': '2'}, created_at='2025-08-03T18:41:23.518748+00:00', parent_config={'configurable': {'thread_id': '2', 'checkpoint_ns': '', 'checkpoint_id': '1f070997-47d6-6dae-bfff-b8afb268562b'}}, tasks=(PregelTask(id='92208978-4183-85e4-43ad-717ea19b94c8', name='joke_generator', path=('__pregel_pull', 'joke_generator'), error=None, interrupts=(), state=None, result={'joke': 'Why was the pizza in a bad mood? \\n\\nBecause it was feeling a little crusty.'}),), interrupts=()),\n",
       " StateSnapshot(values={}, next=('__start__',), config={'configurable': {'thread_id': '2', 'checkpoint_ns': '', 'checkpoint_id': '1f070997-47d6-6dae-bfff-b8afb268562b'}}, metadata={'source': 'input', 'step': -1, 'parents': {}, 'thread_id': '2'}, created_at='2025-08-03T18:41:23.516971+00:00', parent_config=None, tasks=(PregelTask(id='a1243cd7-16f7-c2cc-550c-e97d827e5bf7', name='__start__', path=('__pregel_pull', '__start__'), error=None, interrupts=(), state=None, result={'topic': 'pizza'}),), interrupts=())]"
      ]
     },
     "execution_count": 77,
     "metadata": {},
     "output_type": "execute_result"
    }
   ],
   "source": [
    "list(workflow.get_state_history(config2))"
   ]
  },
  {
   "cell_type": "code",
   "execution_count": null,
   "id": "8e9790b5",
   "metadata": {},
   "outputs": [],
   "source": []
  }
 ],
 "metadata": {
  "kernelspec": {
   "display_name": "Python 3",
   "language": "python",
   "name": "python3"
  },
  "language_info": {
   "codemirror_mode": {
    "name": "ipython",
    "version": 3
   },
   "file_extension": ".py",
   "mimetype": "text/x-python",
   "name": "python",
   "nbconvert_exporter": "python",
   "pygments_lexer": "ipython3",
   "version": "3.10.7"
  }
 },
 "nbformat": 4,
 "nbformat_minor": 5
}
